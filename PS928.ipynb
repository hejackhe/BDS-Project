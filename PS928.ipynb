{
 "cells": [
  {
   "cell_type": "markdown",
   "metadata": {},
   "source": [
    "# PS928 Behavioural and Data Science Project"
   ]
  },
  {
   "cell_type": "code",
   "execution_count": 1,
   "metadata": {},
   "outputs": [
    {
     "name": "stderr",
     "output_type": "stream",
     "text": [
      "//anaconda3/lib/python3.7/site-packages/IPython/core/interactiveshell.py:3063: DtypeWarning: Columns (1,2,3,5,7,8,9,18,19,21,22,26,29,30,31,32,34,38,39,40,41,43) have mixed types.Specify dtype option on import or set low_memory=False.\n",
      "  interactivity=interactivity, compiler=compiler, result=result)\n",
      "//anaconda3/lib/python3.7/site-packages/pandas/core/indexes/base.py:3940: FutureWarning: Using a non-tuple sequence for multidimensional indexing is deprecated; use `arr[tuple(seq)]` instead of `arr[seq]`. In the future this will be interpreted as an array index, `arr[np.array(seq)]`, which will result either in an error or a different result.\n",
      "  result = getitem(key)\n"
     ]
    }
   ],
   "source": [
    "import numpy as np\n",
    "import pandas as pd \n",
    "\n",
    "df = pd.read_csv('Data/changedoriginalratings0MasterAffectEventReduced.csv')\n",
    "#df = df.drop(['Unnamed: 0','Number'], axis=1)\n",
    "# dropped all empty values\n",
    "df = df.drop(df.index[[list(range(8576,len(df)))]])\n",
    "df.to_csv('changedoriginalratings0MasterAffectEventReduced.csv')"
   ]
  },
  {
   "cell_type": "code",
   "execution_count": 2,
   "metadata": {},
   "outputs": [
    {
     "data": {
      "text/plain": [
       "Index(['Number', 'Affect', 'Original StoryID', 'Original text',\n",
       "       'Affect Rating', 'G1 Story', 'G1 WC', 'G1 StoryID',\n",
       "       'G1 StoryID QUALTRICS', 'G1 ID', 'G1 Affect Rating',\n",
       "       'G1 emotional effect', 'G1 Transport', 'G1 Event Presence', 'G1 Gender',\n",
       "       'G1 Age', 'G1 Native Lang', 'G1 Edu', 'G1 Reading habits',\n",
       "       'G2 Retelling', 'G2 WC', 'G2 ID', 'G2 StoryID', 'G2 Affect Rating',\n",
       "       'G2 Event Presence', 'G2 Gender', 'G2 Age', 'G2 Native Lang', 'G2 Edu',\n",
       "       'G2 Reading habits', 'G3 StoryID', 'G3 StoryID QUALTRICS',\n",
       "       'G3 Retelling', 'G3 WC', 'G3 ID', 'G3 Affect Rating',\n",
       "       'G3 emotional effect', 'G3 Transport', 'G3 Event Presence', 'G3 Gender',\n",
       "       'G3 Age', 'G3 Native Lang', 'G3 Edu', 'G3 Reading habits'],\n",
       "      dtype='object')"
      ]
     },
     "execution_count": 2,
     "metadata": {},
     "output_type": "execute_result"
    }
   ],
   "source": [
    "df.columns"
   ]
  },
  {
   "cell_type": "code",
   "execution_count": 3,
   "metadata": {},
   "outputs": [
    {
     "data": {
      "text/plain": [
       "8576"
      ]
     },
     "execution_count": 3,
     "metadata": {},
     "output_type": "execute_result"
    }
   ],
   "source": [
    "len(df)"
   ]
  },
  {
   "cell_type": "code",
   "execution_count": 4,
   "metadata": {},
   "outputs": [],
   "source": [
    "#OGstoryIDs = set(df['Original StoryID'])\n",
    "#OGstoryIDs"
   ]
  },
  {
   "cell_type": "code",
   "execution_count": 5,
   "metadata": {},
   "outputs": [
    {
     "data": {
      "text/plain": [
       "0        68.0\n",
       "1        68.0\n",
       "2        68.0\n",
       "3       153.0\n",
       "4       153.0\n",
       "        ...  \n",
       "8571    116.0\n",
       "8572    116.0\n",
       "8573    116.0\n",
       "8574    116.0\n",
       "8575    116.0\n",
       "Name: G1 WC, Length: 8576, dtype: float64"
      ]
     },
     "execution_count": 5,
     "metadata": {},
     "output_type": "execute_result"
    }
   ],
   "source": [
    "df['G1 WC']"
   ]
  },
  {
   "cell_type": "code",
   "execution_count": 6,
   "metadata": {},
   "outputs": [
    {
     "data": {
      "text/plain": [
       "<matplotlib.axes._subplots.AxesSubplot at 0x11f3aa790>"
      ]
     },
     "execution_count": 6,
     "metadata": {},
     "output_type": "execute_result"
    },
    {
     "data": {
      "image/png": "[encoded data removed]",
      "text/plain": [
       "<Figure size 1440x360 with 3 Axes>"
      ]
     },
     "metadata": {
      "needs_background": "light"
     },
     "output_type": "display_data"
    }
   ],
   "source": [
    "import seaborn as sns\n",
    "import matplotlib.pyplot as plt\n",
    "\n",
    "f, axes = plt.subplots(1, 3, figsize=(20, 5), sharex=True, sharey=True)\n",
    "sns.distplot(df['G1 WC'], color=\"r\", ax=axes[0])\n",
    "sns.distplot(df['G2 WC'], color=\"g\", ax=axes[1])\n",
    "sns.distplot(df['G3 WC'], color=\"b\", ax=axes[2])"
   ]
  },
  {
   "cell_type": "code",
   "execution_count": 7,
   "metadata": {},
   "outputs": [
    {
     "data": {
      "text/html": [
       "<div>\n",
       "<style scoped>\n",
       "    .dataframe tbody tr th:only-of-type {\n",
       "        vertical-align: middle;\n",
       "    }\n",
       "\n",
       "    .dataframe tbody tr th {\n",
       "        vertical-align: top;\n",
       "    }\n",
       "\n",
       "    .dataframe thead th {\n",
       "        text-align: right;\n",
       "    }\n",
       "</style>\n",
       "<table border=\"1\" class=\"dataframe\">\n",
       "  <thead>\n",
       "    <tr style=\"text-align: right;\">\n",
       "      <th></th>\n",
       "      <th>Number</th>\n",
       "      <th>Affect</th>\n",
       "      <th>Original StoryID</th>\n",
       "      <th>Original text</th>\n",
       "      <th>Affect Rating</th>\n",
       "      <th>G1 Story</th>\n",
       "      <th>G1 WC</th>\n",
       "      <th>G1 StoryID</th>\n",
       "      <th>G1 StoryID QUALTRICS</th>\n",
       "      <th>G1 ID</th>\n",
       "      <th>...</th>\n",
       "      <th>G3 ID</th>\n",
       "      <th>G3 Affect Rating</th>\n",
       "      <th>G3 emotional effect</th>\n",
       "      <th>G3 Transport</th>\n",
       "      <th>G3 Event Presence</th>\n",
       "      <th>G3 Gender</th>\n",
       "      <th>G3 Age</th>\n",
       "      <th>G3 Native Lang</th>\n",
       "      <th>G3 Edu</th>\n",
       "      <th>G3 Reading habits</th>\n",
       "    </tr>\n",
       "  </thead>\n",
       "  <tbody>\n",
       "    <tr>\n",
       "      <th>0</th>\n",
       "      <td>1.0</td>\n",
       "      <td>DISGUST</td>\n",
       "      <td>Arnold A</td>\n",
       "      <td>Arnold and his girlfriend, Elizabeth, are trav...</td>\n",
       "      <td>0.42069</td>\n",
       "      <td>a couple travels through asia. they both love ...</td>\n",
       "      <td>68.0</td>\n",
       "      <td>Arnold A 0.1</td>\n",
       "      <td>Arnold A 0.1</td>\n",
       "      <td>R_2asqRySyvGdoJZc</td>\n",
       "      <td>...</td>\n",
       "      <td>R_zet1lBmTVxn3zEJ</td>\n",
       "      <td>0.50</td>\n",
       "      <td>0.50</td>\n",
       "      <td>1.75</td>\n",
       "      <td>0</td>\n",
       "      <td>1</td>\n",
       "      <td>68</td>\n",
       "      <td>1</td>\n",
       "      <td>99.0</td>\n",
       "      <td>0</td>\n",
       "    </tr>\n",
       "    <tr>\n",
       "      <th>1</th>\n",
       "      <td>2.0</td>\n",
       "      <td>DISGUST</td>\n",
       "      <td>Arnold A</td>\n",
       "      <td>Arnold and his girlfriend, Elizabeth, are trav...</td>\n",
       "      <td>0.42069</td>\n",
       "      <td>a couple travels through asia. they both love ...</td>\n",
       "      <td>68.0</td>\n",
       "      <td>Arnold A 0.1</td>\n",
       "      <td>Arnold A 0.1</td>\n",
       "      <td>R_2asqRySyvGdoJZc</td>\n",
       "      <td>...</td>\n",
       "      <td>R_zfq0ZjhSBXdyTN7</td>\n",
       "      <td>1.85</td>\n",
       "      <td>2.25</td>\n",
       "      <td>4.50</td>\n",
       "      <td>0</td>\n",
       "      <td>1</td>\n",
       "      <td>0</td>\n",
       "      <td>1</td>\n",
       "      <td>3.0</td>\n",
       "      <td>10</td>\n",
       "    </tr>\n",
       "  </tbody>\n",
       "</table>\n",
       "<p>2 rows × 44 columns</p>\n",
       "</div>"
      ],
      "text/plain": [
       "   Number   Affect Original StoryID  \\\n",
       "0     1.0  DISGUST         Arnold A   \n",
       "1     2.0  DISGUST         Arnold A   \n",
       "\n",
       "                                       Original text  Affect Rating  \\\n",
       "0  Arnold and his girlfriend, Elizabeth, are trav...        0.42069   \n",
       "1  Arnold and his girlfriend, Elizabeth, are trav...        0.42069   \n",
       "\n",
       "                                            G1 Story  G1 WC    G1 StoryID  \\\n",
       "0  a couple travels through asia. they both love ...   68.0  Arnold A 0.1   \n",
       "1  a couple travels through asia. they both love ...   68.0  Arnold A 0.1   \n",
       "\n",
       "  G1 StoryID QUALTRICS              G1 ID  ...              G3 ID  \\\n",
       "0         Arnold A 0.1  R_2asqRySyvGdoJZc  ...  R_zet1lBmTVxn3zEJ   \n",
       "1         Arnold A 0.1  R_2asqRySyvGdoJZc  ...  R_zfq0ZjhSBXdyTN7   \n",
       "\n",
       "   G3 Affect Rating  G3 emotional effect  G3 Transport  G3 Event Presence  \\\n",
       "0              0.50                 0.50          1.75                  0   \n",
       "1              1.85                 2.25          4.50                  0   \n",
       "\n",
       "   G3 Gender  G3 Age  G3 Native Lang G3 Edu G3 Reading habits  \n",
       "0          1      68               1   99.0                 0  \n",
       "1          1       0               1    3.0                10  \n",
       "\n",
       "[2 rows x 44 columns]"
      ]
     },
     "execution_count": 7,
     "metadata": {},
     "output_type": "execute_result"
    }
   ],
   "source": [
    "df.head(2)"
   ]
  },
  {
   "cell_type": "code",
   "execution_count": 8,
   "metadata": {},
   "outputs": [
    {
     "data": {
      "text/plain": [
       "2814"
      ]
     },
     "execution_count": 8,
     "metadata": {},
     "output_type": "execute_result"
    }
   ],
   "source": [
    "len(set(df['G1 StoryID']))"
   ]
  },
  {
   "cell_type": "code",
   "execution_count": 9,
   "metadata": {},
   "outputs": [
    {
     "data": {
      "text/html": [
       "<div>\n",
       "<style scoped>\n",
       "    .dataframe tbody tr th:only-of-type {\n",
       "        vertical-align: middle;\n",
       "    }\n",
       "\n",
       "    .dataframe tbody tr th {\n",
       "        vertical-align: top;\n",
       "    }\n",
       "\n",
       "    .dataframe thead th {\n",
       "        text-align: right;\n",
       "    }\n",
       "</style>\n",
       "<table border=\"1\" class=\"dataframe\">\n",
       "  <thead>\n",
       "    <tr style=\"text-align: right;\">\n",
       "      <th></th>\n",
       "      <th>Affect</th>\n",
       "      <th>Original StoryID</th>\n",
       "      <th>Original text</th>\n",
       "      <th>Affect Rating</th>\n",
       "    </tr>\n",
       "  </thead>\n",
       "  <tbody>\n",
       "    <tr>\n",
       "      <th>8574</th>\n",
       "      <td>SADNESS</td>\n",
       "      <td>Jonny I</td>\n",
       "      <td>The Sanders were a boisterous, red-headed fami...</td>\n",
       "      <td>2.9875</td>\n",
       "    </tr>\n",
       "    <tr>\n",
       "      <th>8575</th>\n",
       "      <td>SADNESS</td>\n",
       "      <td>Jonny I</td>\n",
       "      <td>The Sanders were a boisterous, red-headed fami...</td>\n",
       "      <td>2.9875</td>\n",
       "    </tr>\n",
       "  </tbody>\n",
       "</table>\n",
       "</div>"
      ],
      "text/plain": [
       "       Affect Original StoryID  \\\n",
       "8574  SADNESS          Jonny I   \n",
       "8575  SADNESS          Jonny I   \n",
       "\n",
       "                                          Original text  Affect Rating  \n",
       "8574  The Sanders were a boisterous, red-headed fami...         2.9875  \n",
       "8575  The Sanders were a boisterous, red-headed fami...         2.9875  "
      ]
     },
     "execution_count": 9,
     "metadata": {},
     "output_type": "execute_result"
    }
   ],
   "source": [
    "g0df = df[['Affect', 'Original StoryID', 'Original text', 'Affect Rating']]\n",
    "g0df.tail(2)"
   ]
  },
  {
   "cell_type": "code",
   "execution_count": 10,
   "metadata": {},
   "outputs": [
    {
     "data": {
      "text/html": [
       "<div>\n",
       "<style scoped>\n",
       "    .dataframe tbody tr th:only-of-type {\n",
       "        vertical-align: middle;\n",
       "    }\n",
       "\n",
       "    .dataframe tbody tr th {\n",
       "        vertical-align: top;\n",
       "    }\n",
       "\n",
       "    .dataframe thead th {\n",
       "        text-align: right;\n",
       "    }\n",
       "</style>\n",
       "<table border=\"1\" class=\"dataframe\">\n",
       "  <thead>\n",
       "    <tr style=\"text-align: right;\">\n",
       "      <th></th>\n",
       "      <th>G3 Retelling</th>\n",
       "      <th>G3 WC</th>\n",
       "      <th>G3 StoryID</th>\n",
       "      <th>G3 Affect Rating</th>\n",
       "      <th>G3 emotional effect</th>\n",
       "      <th>G3 Transport</th>\n",
       "      <th>G3 Event Presence</th>\n",
       "      <th>G3 Gender</th>\n",
       "      <th>G3 Age</th>\n",
       "      <th>G3 Native Lang</th>\n",
       "      <th>G3 Edu</th>\n",
       "      <th>G3 Reading habits</th>\n",
       "    </tr>\n",
       "  </thead>\n",
       "  <tbody>\n",
       "    <tr>\n",
       "      <th>8574</th>\n",
       "      <td>A little boy was very unpopular even with his ...</td>\n",
       "      <td>45</td>\n",
       "      <td>Jonny I 0.9.15-2</td>\n",
       "      <td>0.633333</td>\n",
       "      <td>0.833333</td>\n",
       "      <td>3.666667</td>\n",
       "      <td>1</td>\n",
       "      <td>0</td>\n",
       "      <td>55</td>\n",
       "      <td>1</td>\n",
       "      <td>99.0</td>\n",
       "      <td>0</td>\n",
       "    </tr>\n",
       "    <tr>\n",
       "      <th>8575</th>\n",
       "      <td>An unpopular boy who lived on a farm got a pup...</td>\n",
       "      <td>23</td>\n",
       "      <td>Jonny I 0.9.15-2</td>\n",
       "      <td>1.250000</td>\n",
       "      <td>1.666667</td>\n",
       "      <td>3.500000</td>\n",
       "      <td>1</td>\n",
       "      <td>0</td>\n",
       "      <td>39</td>\n",
       "      <td>1</td>\n",
       "      <td>99.0</td>\n",
       "      <td>45</td>\n",
       "    </tr>\n",
       "  </tbody>\n",
       "</table>\n",
       "</div>"
      ],
      "text/plain": [
       "                                           G3 Retelling  G3 WC  \\\n",
       "8574  A little boy was very unpopular even with his ...     45   \n",
       "8575  An unpopular boy who lived on a farm got a pup...     23   \n",
       "\n",
       "            G3 StoryID  G3 Affect Rating  G3 emotional effect  G3 Transport  \\\n",
       "8574  Jonny I 0.9.15-2          0.633333             0.833333      3.666667   \n",
       "8575  Jonny I 0.9.15-2          1.250000             1.666667      3.500000   \n",
       "\n",
       "     G3 Event Presence G3 Gender G3 Age G3 Native Lang  G3 Edu  \\\n",
       "8574                 1         0     55              1    99.0   \n",
       "8575                 1         0     39              1    99.0   \n",
       "\n",
       "     G3 Reading habits  \n",
       "8574                 0  \n",
       "8575                45  "
      ]
     },
     "execution_count": 10,
     "metadata": {},
     "output_type": "execute_result"
    }
   ],
   "source": [
    "g0df = df[['Affect', 'Original StoryID', 'Original text', 'Affect Rating']]\n",
    "g1df = df[['G1 Story', 'G1 WC', 'G1 StoryID', 'G1 Affect Rating', 'G1 emotional effect', 'G1 Transport',\n",
    "            'G1 Event Presence', 'G1 Gender', 'G1 Age', 'G1 Native Lang', 'G1 Edu', 'G1 Reading habits']]\n",
    "g2df = df[['G2 Retelling', 'G2 WC', 'G2 StoryID', 'G2 Affect Rating', 'G2 Event Presence', 'G2 Gender', \n",
    "           'G2 Age','G2 Native Lang', 'G2 Edu', 'G2 Reading habits']]\n",
    "g3df = df[['G3 Retelling', 'G3 WC', 'G3 StoryID', 'G3 Affect Rating', 'G3 emotional effect', 'G3 Transport',\n",
    "           'G3 Event Presence', 'G3 Gender', 'G3 Age', 'G3 Native Lang', 'G3 Edu', 'G3 Reading habits']]\n",
    "g3df.tail(2)"
   ]
  },
  {
   "cell_type": "code",
   "execution_count": 11,
   "metadata": {},
   "outputs": [
    {
     "data": {
      "text/plain": [
       "str"
      ]
     },
     "execution_count": 11,
     "metadata": {},
     "output_type": "execute_result"
    }
   ],
   "source": [
    "type(g3df['G3 Retelling'][0])"
   ]
  },
  {
   "cell_type": "markdown",
   "metadata": {},
   "source": [
    "## Text Preprocessing"
   ]
  },
  {
   "cell_type": "code",
   "execution_count": 12,
   "metadata": {},
   "outputs": [],
   "source": [
    "from nltk import *\n",
    "from nltk.corpus import stopwords\n",
    "import re\n",
    "from textblob import TextBlob\n",
    "\n",
    "stop_words = set(stopwords.words('english')) \n",
    "stop_patterns = re.compile(r'\\b(' + r'|'.join(stopwords.words('english')) + r')\\b\\s*')\n",
    "lemma = WordNetLemmatizer()\n",
    "\n",
    "def process_text(indexed_text):\n",
    "    processed_words = []\n",
    "    for i in range(0,len(indexed_text)):\n",
    "        #story = TextBlob(indexed_text[i]).correct() # Correct spelling errors\n",
    "        story = re.sub(r'[^a-z\\s\\-]','', str(indexed_text[i]).lower()) # Remove all non-alphabetic characters except spaces and \"-\".\n",
    "        story = re.sub(r'\\-', ' ', story) # Replace \"-\" with space\n",
    "        story = stop_patterns.sub('', story) # Remove stopwords\n",
    "        story_tokens = word_tokenize(story) # Tokenise story\n",
    "        story_lemmas = [lemma.lemmatize(token) for token in story_tokens] # Lemmatise tokens\n",
    "        processed_words.append(story_lemmas)\n",
    "    return(processed_words)\n",
    "\n",
    "g0words = process_text(g0df['Original text'])\n",
    "g1words = process_text(g1df['G1 Story'])\n",
    "g2words = process_text(g2df['G2 Retelling'])\n",
    "g3words = process_text(g3df['G3 Retelling'])"
   ]
  },
  {
   "cell_type": "code",
   "execution_count": 13,
   "metadata": {},
   "outputs": [
    {
     "name": "stdout",
     "output_type": "stream",
     "text": [
      "G0 Vocabulary:  1008\n",
      "G1 Vocabulary:  5044\n",
      "G2 Vocabulary:  7863\n",
      "G3 Vocabulary:  8151\n"
     ]
    }
   ],
   "source": [
    "flattened_g0 = [lemma for story in g0words for lemma in story]\n",
    "g0vocab = set(flattened_g0)\n",
    "print(\"G0 Vocabulary: \",len(g0vocab))\n",
    "\n",
    "flattened_g1 = [lemma for story in g1words for lemma in story]\n",
    "g1vocab = set(flattened_g1)\n",
    "print(\"G1 Vocabulary: \",len(g1vocab))\n",
    "\n",
    "flattened_g2 = [lemma for story in g2words for lemma in story]\n",
    "g2vocab = set(flattened_g2)\n",
    "print(\"G2 Vocabulary: \",len(g2vocab))\n",
    "\n",
    "flattened_g3 = [lemma for story in g3words for lemma in story]\n",
    "g3vocab = set(flattened_g3)\n",
    "print(\"G3 Vocabulary: \",len(g3vocab))"
   ]
  },
  {
   "cell_type": "code",
   "execution_count": 14,
   "metadata": {
    "collapsed": true,
    "jupyter": {
     "outputs_hidden": true
    }
   },
   "outputs": [
    {
     "data": {
      "text/plain": [
       "{'couplean',\n",
       " 'jefa',\n",
       " 'ajdsljflsdjflsjd',\n",
       " 'duro',\n",
       " 'cara',\n",
       " 'greatful',\n",
       " 'damned',\n",
       " 'wrap',\n",
       " 'begging',\n",
       " 'dan',\n",
       " 'girlher',\n",
       " 'classhe',\n",
       " 'wad',\n",
       " 'dave',\n",
       " 'sketchy',\n",
       " 'thursday',\n",
       " 'concetrarse',\n",
       " 'shoudnt',\n",
       " 'noto',\n",
       " 'unhealthy',\n",
       " 'tiempo',\n",
       " 'pesadamente',\n",
       " 'guessed',\n",
       " 'readily',\n",
       " 'hace',\n",
       " 'closelyand',\n",
       " 'prueba',\n",
       " 'senta',\n",
       " 'coffeethen',\n",
       " 'dirige',\n",
       " 'thoughmaking',\n",
       " 'situated',\n",
       " 'rehabilitate',\n",
       " 'cercanos',\n",
       " 'rudolph',\n",
       " 'rudely',\n",
       " 'jjay',\n",
       " 'takedrinks',\n",
       " 'despues',\n",
       " 'eerie',\n",
       " 'koney',\n",
       " 'difruta',\n",
       " 'nico',\n",
       " 'accidente',\n",
       " 'stargaze',\n",
       " 'jennifer',\n",
       " 'imperfect',\n",
       " 'estaban',\n",
       " 'meere',\n",
       " 'rear',\n",
       " 'carves',\n",
       " 'exma',\n",
       " 'inadvisably',\n",
       " 'muster',\n",
       " 'caller',\n",
       " 'withdrawal',\n",
       " 'taxing',\n",
       " 'kidnapping',\n",
       " 'frolic',\n",
       " 'realizarse',\n",
       " 'ropa',\n",
       " 'cuales',\n",
       " 'trouser',\n",
       " 'jackin',\n",
       " 'accel',\n",
       " 'wistfully',\n",
       " 'measured',\n",
       " 'depart',\n",
       " 'fianancially',\n",
       " 'restart',\n",
       " 'triste',\n",
       " 'blush',\n",
       " 'earliest',\n",
       " 'friencly',\n",
       " 'aho',\n",
       " 'severed',\n",
       " 'mashed',\n",
       " 'defacting',\n",
       " 'spillt',\n",
       " 'rang',\n",
       " 'preparo',\n",
       " 'socio',\n",
       " 'surreptitiously',\n",
       " 'trepidation',\n",
       " 'esperanza',\n",
       " 'disbelief',\n",
       " 'bernie',\n",
       " 'fixated',\n",
       " 'indistinguishable',\n",
       " 'muchos',\n",
       " 'tyring',\n",
       " 'spectated',\n",
       " 'padre',\n",
       " 'occasional',\n",
       " 'headshe',\n",
       " 'bridge',\n",
       " 'superar',\n",
       " 'transit',\n",
       " 'gamblingon',\n",
       " 'afterparty',\n",
       " 'california',\n",
       " 'mayora',\n",
       " 'pasaron',\n",
       " 'g',\n",
       " 'picnic',\n",
       " 'distributed',\n",
       " 'yhe',\n",
       " 'profesora',\n",
       " 'rougher',\n",
       " 'hiccup',\n",
       " 'herwhen',\n",
       " 'yikes',\n",
       " 'disaterous',\n",
       " 'stoked',\n",
       " 'emit',\n",
       " 'coloring',\n",
       " 'baja',\n",
       " 'shary',\n",
       " 'gi',\n",
       " 'blameshe',\n",
       " 'businessman',\n",
       " 'someplace',\n",
       " 'burgarlized',\n",
       " 'ella',\n",
       " 'mel',\n",
       " 'behave',\n",
       " 'lowered',\n",
       " 'military',\n",
       " 'dash',\n",
       " 'dairy',\n",
       " 'parkjay',\n",
       " 'havethey',\n",
       " 'miscarriedafter',\n",
       " 'specimen',\n",
       " 'corto',\n",
       " 'terminator',\n",
       " 'grillo',\n",
       " 'compaeras',\n",
       " 'frightful',\n",
       " 'cuenta',\n",
       " 'lasted',\n",
       " 'obeyed',\n",
       " 'embryo',\n",
       " 'tutored',\n",
       " 'pone',\n",
       " 'official',\n",
       " 'unitl',\n",
       " 'winery',\n",
       " 'ineractions',\n",
       " 'serached',\n",
       " 'datingjust',\n",
       " 'disqualified',\n",
       " 'nieve',\n",
       " 'ajo',\n",
       " 'confess',\n",
       " 'backfire',\n",
       " 'whacked',\n",
       " 'mando',\n",
       " 'heritage',\n",
       " 'harass',\n",
       " 'womanhood',\n",
       " 'wilies',\n",
       " 'restuarants',\n",
       " 'cookout',\n",
       " 'gradation',\n",
       " 'chris',\n",
       " 'perros',\n",
       " 'blog',\n",
       " 'ramp',\n",
       " 'noveno',\n",
       " 'flour',\n",
       " 'aver',\n",
       " 'bao',\n",
       " 'dejar',\n",
       " 'honeymoon',\n",
       " 'sighed',\n",
       " 'counselor',\n",
       " 'asshole',\n",
       " 'ammentaties',\n",
       " 'cure',\n",
       " 'trabaja',\n",
       " 'murder',\n",
       " 'optimistically',\n",
       " 'regreso',\n",
       " 'gote',\n",
       " 'inbut',\n",
       " 'nce',\n",
       " 'cerial',\n",
       " 'fog',\n",
       " 'durain',\n",
       " 'normality',\n",
       " 'wrecked',\n",
       " 'excuted',\n",
       " 'bumpkin',\n",
       " 'tiffiny',\n",
       " 'baseball',\n",
       " 'shat',\n",
       " 'semestre',\n",
       " 'uno',\n",
       " 'terribles',\n",
       " 'pliant',\n",
       " 'bee',\n",
       " 'nuevo',\n",
       " 'van',\n",
       " 'nothe',\n",
       " 'networked',\n",
       " 'estaba',\n",
       " 'motivator',\n",
       " 'margaret',\n",
       " 'author',\n",
       " 'substitute',\n",
       " 'ocassions',\n",
       " 'cuz',\n",
       " 'cercano',\n",
       " 'hmself',\n",
       " 'allergy',\n",
       " 'experieced',\n",
       " 'overreacted',\n",
       " 'interitence',\n",
       " 'headmaster',\n",
       " 'octener',\n",
       " 'compaera',\n",
       " 'artistically',\n",
       " 'japan',\n",
       " 'everthing',\n",
       " 'browsed',\n",
       " 'elizatbeth',\n",
       " 'enjoining',\n",
       " 'lonelyso',\n",
       " 'bullyng',\n",
       " 'owing',\n",
       " 'racist',\n",
       " 'farmtheir',\n",
       " 'fella',\n",
       " 'recieves',\n",
       " 'brad',\n",
       " 'carryingthe',\n",
       " 'brweaks',\n",
       " 'hotelwhen',\n",
       " 'unfulfilled',\n",
       " 'varios',\n",
       " 'checkup',\n",
       " 'photographic',\n",
       " 'meme',\n",
       " 'httpsiupsychazqualtricscomjfeformsvdohswzclwasfhttpsiupsychazqualtricscomjfeformsvdohswzclwasfhttpsiupsychazqualtricscomjfeformsvdohswzclwasfhttpsiupsychazqualtricscomjfeformsvdohswzclwasfhttpsiupsychazqualtricscomjfeformsvdohswzclwasfhttpsiupsychazqualtricscomjfeformsvdohswzclwasfhttpsiupsychazqualtricscomjfeformsvdohswzclwasfhttpsiupsychazqualtricscomjfeformsvdohswzclwasfhttpsiupsychazqualtricscomjfeformsvdohswzclwasf',\n",
       " 'angst',\n",
       " 'desprovista',\n",
       " 'finnaly',\n",
       " 'ac',\n",
       " 'prohibited',\n",
       " 'disagreed',\n",
       " 'shying',\n",
       " 'youll',\n",
       " 'cracked',\n",
       " 'dejectedly',\n",
       " 'candleswhen',\n",
       " 'vestido',\n",
       " 'scwharzeneggar',\n",
       " 'dirt',\n",
       " 'presuming',\n",
       " 'finn',\n",
       " 'flirted',\n",
       " 'llegar',\n",
       " 'aisle',\n",
       " 'hisself',\n",
       " 'olanterns',\n",
       " 'estudios',\n",
       " 'dejaban',\n",
       " 'eoc',\n",
       " 'scholorship',\n",
       " 'trelis',\n",
       " 'por',\n",
       " 'aun',\n",
       " 'fel',\n",
       " 'inhertate',\n",
       " 'thonk',\n",
       " 'problemas',\n",
       " 'format',\n",
       " 'amigo',\n",
       " 'douses',\n",
       " 'grader',\n",
       " 'comienzan',\n",
       " 'lonelybut',\n",
       " 'solo',\n",
       " 'lesiono',\n",
       " 'spice',\n",
       " 'dove',\n",
       " 'sweeting',\n",
       " 'bimbo',\n",
       " 'viajes',\n",
       " 'fervor',\n",
       " 'jade',\n",
       " 'woudnt',\n",
       " 'elusive',\n",
       " 'ribbed',\n",
       " 'demonstration',\n",
       " 'peried',\n",
       " 'composing',\n",
       " 'weere',\n",
       " 'grasp',\n",
       " 'inherently',\n",
       " 'structure',\n",
       " 'fenced',\n",
       " 'clutzy',\n",
       " 'insultos',\n",
       " 'marcy',\n",
       " 'diligencia',\n",
       " 'misstepped',\n",
       " 'momey',\n",
       " 'decompsed',\n",
       " 'choked',\n",
       " 'viene',\n",
       " 'estado',\n",
       " 'viaje',\n",
       " 'hopsital',\n",
       " 'whenn',\n",
       " 'idoho',\n",
       " 'masticarlo',\n",
       " 'doozy',\n",
       " 'impersonate',\n",
       " 'foudn',\n",
       " 'beenys',\n",
       " 'sheris',\n",
       " 'favortite',\n",
       " 'orientation',\n",
       " 'pierde',\n",
       " 'abate',\n",
       " 'cosas',\n",
       " 'priding',\n",
       " 'resteraunts',\n",
       " 'dormitorio',\n",
       " 'freinds',\n",
       " 'gots',\n",
       " 'bacl',\n",
       " 'bioligy',\n",
       " 'rapido',\n",
       " 'treater',\n",
       " 'idia',\n",
       " 'trabajando',\n",
       " 'captain',\n",
       " 'otro',\n",
       " 'being',\n",
       " 'lugar',\n",
       " 'repeat',\n",
       " 'medal',\n",
       " 'seee',\n",
       " 'lesser',\n",
       " 'spontaneously',\n",
       " 'faltar',\n",
       " 'travs',\n",
       " 'loosesic',\n",
       " 'mixture',\n",
       " 'nerviosa',\n",
       " 'impairs',\n",
       " 'confession',\n",
       " 'snickkett',\n",
       " 'comparti',\n",
       " 'unreciprocated',\n",
       " 'conseguido',\n",
       " 'discomfort',\n",
       " 'ofrecen',\n",
       " 'pupppy',\n",
       " 'forgivable',\n",
       " 'esta',\n",
       " 'cap',\n",
       " 'derramo',\n",
       " 'frroze',\n",
       " 'unemployment',\n",
       " 'slurping',\n",
       " 'clothesher',\n",
       " 'su',\n",
       " 'profesional',\n",
       " 'imheritance',\n",
       " 'interpretation',\n",
       " 'facade',\n",
       " 'suspended',\n",
       " 'talend',\n",
       " 'lo',\n",
       " 'remarrying',\n",
       " 'imbibing',\n",
       " 'aavery',\n",
       " 'evidently',\n",
       " 'resting',\n",
       " 'downhe',\n",
       " 'exectutives',\n",
       " 'descorcentantes',\n",
       " 'clairs',\n",
       " 'chalk',\n",
       " 'mire',\n",
       " 'spreading',\n",
       " 'springing',\n",
       " 'heat',\n",
       " 'precedent',\n",
       " 'vecinos',\n",
       " 'sttock',\n",
       " 'semster',\n",
       " 'toman',\n",
       " 'terminology',\n",
       " 'johnnie',\n",
       " 'becuse',\n",
       " 'sine',\n",
       " 'trashed',\n",
       " 'crea',\n",
       " 'belt',\n",
       " 'studfent',\n",
       " 'preparado',\n",
       " 'tomorrowit',\n",
       " 'unassuming',\n",
       " 'mindset',\n",
       " 'conversa',\n",
       " 'stretched',\n",
       " 'vive',\n",
       " 'fertility',\n",
       " 'estos',\n",
       " 'pared',\n",
       " 'nathan',\n",
       " 'abide',\n",
       " 'collecting',\n",
       " 'impatience',\n",
       " 'infructuosas',\n",
       " 'abducted',\n",
       " 'deseo',\n",
       " 'toda',\n",
       " 'adversion',\n",
       " 'ina',\n",
       " 'outsteve',\n",
       " 'ably',\n",
       " 'sharpest',\n",
       " 'agitated',\n",
       " 'loo',\n",
       " 'notas',\n",
       " 'unabated',\n",
       " 'accidentalmente',\n",
       " 'encontr',\n",
       " 'motherfather',\n",
       " 'cacao',\n",
       " 'shui',\n",
       " 'inhospitable',\n",
       " 'glitch',\n",
       " 'espresso',\n",
       " 'mollie',\n",
       " 'cover',\n",
       " 'fourtunate',\n",
       " 'exameven',\n",
       " 'stephan',\n",
       " 'refrigerator',\n",
       " 'teram',\n",
       " 'trabajador',\n",
       " 'gel',\n",
       " 'negligent',\n",
       " 'hocked',\n",
       " 'retells',\n",
       " 'weirded',\n",
       " 'apartamentos',\n",
       " 'volunteering',\n",
       " 'terminated',\n",
       " 'visiing',\n",
       " 'careven',\n",
       " 'unos',\n",
       " 'logic',\n",
       " 'frend',\n",
       " 'outhe',\n",
       " 'mucous',\n",
       " 'mohosas',\n",
       " 'contemplates',\n",
       " 'rebecah',\n",
       " 'apollo',\n",
       " 'recycling',\n",
       " 'widening',\n",
       " 'objetivos',\n",
       " 'timmy',\n",
       " 'alta',\n",
       " 'bonushe',\n",
       " 'notablemente',\n",
       " 'misadventure',\n",
       " 'golpea',\n",
       " 'themhis',\n",
       " 'hsi',\n",
       " 'investmesnts',\n",
       " 'dirtyand',\n",
       " 'buzzed',\n",
       " 'tiffanny',\n",
       " 'whch',\n",
       " 'bernnny',\n",
       " 'dye',\n",
       " 'behaved',\n",
       " 'frickin',\n",
       " 'hermanos',\n",
       " 'lash',\n",
       " 'adn',\n",
       " 'leery',\n",
       " 'friendlyhe',\n",
       " 'courageous',\n",
       " 'decsion',\n",
       " 'busstop',\n",
       " 'discharging',\n",
       " 'presentaton',\n",
       " 'wasdressed',\n",
       " 'guitor',\n",
       " 'seriousness',\n",
       " 'restraunt',\n",
       " 'whick',\n",
       " 'pimpkin',\n",
       " 'espontaneo',\n",
       " 'reminding',\n",
       " 'cattle',\n",
       " 'relates',\n",
       " 'lesionado',\n",
       " 'tought',\n",
       " 'cola',\n",
       " 'dd',\n",
       " 'itshe',\n",
       " 'debacle',\n",
       " 'llamada',\n",
       " 'drab',\n",
       " 'toothpaste',\n",
       " 'errores',\n",
       " 'techo',\n",
       " 'intrerez',\n",
       " 'ble',\n",
       " 'lauged',\n",
       " 'hershe',\n",
       " 'viaja',\n",
       " 'fraternity',\n",
       " 'couplethey',\n",
       " 'kathetine',\n",
       " 'bioolgy',\n",
       " 'liquid',\n",
       " 'notluckily',\n",
       " 'ya',\n",
       " 'familiy',\n",
       " 'swigging',\n",
       " 'nailed',\n",
       " 'ides',\n",
       " 'pariah',\n",
       " 'canonical',\n",
       " 'recoger',\n",
       " 'doghis',\n",
       " 'muuch',\n",
       " 'pareja',\n",
       " 'homelife',\n",
       " 'suyo',\n",
       " 'higherups',\n",
       " 'malda',\n",
       " 'pollution',\n",
       " 'climber',\n",
       " 'destac',\n",
       " 'latched',\n",
       " 'inconsiderate',\n",
       " 'unwilling',\n",
       " 'beam',\n",
       " 'cognizant',\n",
       " 'cave',\n",
       " 'reminds',\n",
       " 'pubico',\n",
       " 'jail',\n",
       " 'stevene',\n",
       " 'cheeped',\n",
       " 'exteme',\n",
       " 'maana',\n",
       " 'dedicates',\n",
       " 'selfishly',\n",
       " 'shcool',\n",
       " 'nooo',\n",
       " 'realmente',\n",
       " 'va',\n",
       " 'hotelthey',\n",
       " 'alguien',\n",
       " 'austin',\n",
       " 'distancing',\n",
       " 'nio',\n",
       " 'urinated',\n",
       " 'clueless',\n",
       " 'berlin',\n",
       " 'incluso',\n",
       " 'armed',\n",
       " 'australia',\n",
       " 'editing',\n",
       " 'mohers',\n",
       " 'pupper',\n",
       " 'tobillo',\n",
       " 'moneyafter',\n",
       " 'retweeting',\n",
       " 'pyppy',\n",
       " 'iand',\n",
       " 'lifeher',\n",
       " 'biologa',\n",
       " 'lovebird',\n",
       " 'othe',\n",
       " 'somenone',\n",
       " 'differed',\n",
       " 'predicts',\n",
       " 'embaracing',\n",
       " 'dia',\n",
       " 'retaurant',\n",
       " 'uncharted',\n",
       " 'completion',\n",
       " 'aaronwho',\n",
       " 'dressif',\n",
       " 'will',\n",
       " 'nan',\n",
       " 'vegetarian',\n",
       " 'favorito',\n",
       " 'consulted',\n",
       " 'kathreen',\n",
       " 'advise',\n",
       " 'toa',\n",
       " 'screenshot',\n",
       " 'forthey',\n",
       " 'evident',\n",
       " 'offends',\n",
       " 'markethe',\n",
       " 'twist',\n",
       " 'presumed',\n",
       " 'ron',\n",
       " 'jugador',\n",
       " 'ruminates',\n",
       " 'introsuxced',\n",
       " 'goma',\n",
       " 'barrio',\n",
       " 'xmas',\n",
       " 'golpeo',\n",
       " 'stashed',\n",
       " 'retaking',\n",
       " 'attribute',\n",
       " 'relished',\n",
       " 'tifany',\n",
       " 'burglerized',\n",
       " 'unlit',\n",
       " 'partyhe',\n",
       " 'jessicas',\n",
       " 'sabbatical',\n",
       " 'sadhe',\n",
       " 'scholastically',\n",
       " 'jhim',\n",
       " 'ser',\n",
       " 'achieving',\n",
       " 'corte',\n",
       " 'derram',\n",
       " 'gt',\n",
       " 'clicking',\n",
       " 'recalling',\n",
       " 'fiesta',\n",
       " 'disheveled',\n",
       " 'appreciatively',\n",
       " 'childrena',\n",
       " 'comenzaron',\n",
       " 'cmo',\n",
       " 'dedicado',\n",
       " 'truened',\n",
       " 'assure',\n",
       " 'hacia',\n",
       " 'pleading',\n",
       " 'menses',\n",
       " 'odaho',\n",
       " 'playmate',\n",
       " 'juilas',\n",
       " 'johnnu',\n",
       " 'testmostly',\n",
       " 'mike',\n",
       " 'robbing',\n",
       " 'submission',\n",
       " 'tel',\n",
       " 'anotherone',\n",
       " 'maake',\n",
       " 'developmentally',\n",
       " 'trusting',\n",
       " 'estudiar',\n",
       " 'discombobulated',\n",
       " 'thamn',\n",
       " 'candlelit',\n",
       " 'cerca',\n",
       " 'driver',\n",
       " 'prudish',\n",
       " 'disappered',\n",
       " 'disrepair',\n",
       " 'occassion',\n",
       " 'baffled',\n",
       " 'sangr',\n",
       " 'pupmkin',\n",
       " 'nadar',\n",
       " 'politely',\n",
       " 'erupted',\n",
       " 'commiserating',\n",
       " 'comienza',\n",
       " 'restored',\n",
       " 'infect',\n",
       " 'torneo',\n",
       " 'oversuddenly',\n",
       " 'camp',\n",
       " 'practive',\n",
       " 'starved',\n",
       " 'gravely',\n",
       " 'horas',\n",
       " 'station',\n",
       " 'inherented',\n",
       " 'snagged',\n",
       " 'pertenece',\n",
       " 'buildingand',\n",
       " 'honorary',\n",
       " 'basketball',\n",
       " 'hideous',\n",
       " 'fashionable',\n",
       " 'oler',\n",
       " 'mujer',\n",
       " 'trabajo',\n",
       " 'crapper',\n",
       " 'upwhen',\n",
       " 'misma',\n",
       " 'footthey',\n",
       " 'surname',\n",
       " 'happenedhe',\n",
       " 'juega',\n",
       " 'oneguy',\n",
       " 'promotionwhen',\n",
       " 'intercourse',\n",
       " 'caretaker',\n",
       " 'mingled',\n",
       " 'cripple',\n",
       " 'consigue',\n",
       " 'indiawhen',\n",
       " 'afortunadamente',\n",
       " 'inclusion',\n",
       " 'josh',\n",
       " 'assiduously',\n",
       " 'snowbut',\n",
       " 'ninety',\n",
       " 'idao',\n",
       " 'acerca',\n",
       " 'mortfied',\n",
       " 'diraction',\n",
       " 'buillied',\n",
       " 'walkingeveryone',\n",
       " 'entrenamiento',\n",
       " 'endued',\n",
       " 'leaped',\n",
       " 'stereotype',\n",
       " 'underprivileged',\n",
       " 'outsiderhe',\n",
       " 'hisbirthday',\n",
       " 'corp',\n",
       " 'vivian',\n",
       " 'kristallnacht',\n",
       " 'grandmothe',\n",
       " 'inflamed',\n",
       " 'chimed',\n",
       " 'enrolling',\n",
       " 'sway',\n",
       " 'amuse',\n",
       " 'soldier',\n",
       " 'monetarily',\n",
       " 'afecto',\n",
       " 'accounthe',\n",
       " 'launched',\n",
       " 'escap',\n",
       " 'folletos',\n",
       " 'muddied',\n",
       " 'island',\n",
       " 'igls',\n",
       " 'verla',\n",
       " 'detuvo',\n",
       " 'manged',\n",
       " 'arial',\n",
       " 'accidentley',\n",
       " 'paseo',\n",
       " 'misused',\n",
       " 'suitor',\n",
       " 'sistere',\n",
       " 'manageable',\n",
       " 'examen',\n",
       " 'sudorosa',\n",
       " 'ign',\n",
       " 'stuides',\n",
       " 'doctored',\n",
       " 'uptight',\n",
       " 'neighborhod',\n",
       " 'passenger',\n",
       " 'scale',\n",
       " 'advantage',\n",
       " 'ahora',\n",
       " 'mistreet',\n",
       " 'gurlgilg',\n",
       " 'teracher',\n",
       " 'dull',\n",
       " 'thngs',\n",
       " 'alert',\n",
       " 'shi',\n",
       " 'eachothers',\n",
       " 'itbut',\n",
       " 'plague',\n",
       " 'depressive',\n",
       " 'dispite',\n",
       " 'whome',\n",
       " 'gifs',\n",
       " 'peacefully',\n",
       " 'clases',\n",
       " 'trabaj',\n",
       " 'paddy',\n",
       " 'eeww',\n",
       " 'proving',\n",
       " 'callejn',\n",
       " 'marra',\n",
       " 'disarranged',\n",
       " 'alonefortunately',\n",
       " 'mismo',\n",
       " 'mamangement',\n",
       " 'headline',\n",
       " 'zealous',\n",
       " 'encuentran',\n",
       " 'eran',\n",
       " 'publicacin',\n",
       " 'phenom',\n",
       " 'usar',\n",
       " 'moner',\n",
       " 'tenderize',\n",
       " 'combo',\n",
       " 'primer',\n",
       " 'aways',\n",
       " 'hooked',\n",
       " 'denied',\n",
       " 'afloat',\n",
       " 'veritable',\n",
       " 'ogrado',\n",
       " 'comodidad',\n",
       " 'enny',\n",
       " 'aos',\n",
       " 'strived',\n",
       " 'oil',\n",
       " 'sol',\n",
       " 'outdone',\n",
       " 'extravagant',\n",
       " 'hermanas',\n",
       " 'trinket',\n",
       " 'forming',\n",
       " 'eva',\n",
       " 'unti',\n",
       " 'violating',\n",
       " 'morining',\n",
       " 'studyed',\n",
       " 'childbearing',\n",
       " 'deepness',\n",
       " 'neighboardhood',\n",
       " 'fdfdsfsdfsfsdf',\n",
       " 'eruct',\n",
       " 'outsidehis',\n",
       " 'incurred',\n",
       " 'unlikely',\n",
       " 'comi',\n",
       " 'tropezo',\n",
       " 'rocas',\n",
       " 'ea',\n",
       " 'core',\n",
       " 'redheadswho',\n",
       " 'recogntion',\n",
       " 'mowing',\n",
       " 'conitnued',\n",
       " 'hios',\n",
       " 'retaill',\n",
       " 'belived',\n",
       " 'boot',\n",
       " 'comical',\n",
       " 'childgooh',\n",
       " 'whle',\n",
       " 'canyon',\n",
       " 'naturalidad',\n",
       " 'bumpy',\n",
       " 'engrossed',\n",
       " 'activitiescut',\n",
       " 'realied',\n",
       " 'blacked',\n",
       " 'outta',\n",
       " 'comenzo',\n",
       " 'cachorro',\n",
       " 'releasing',\n",
       " 'worsen',\n",
       " 'initiative',\n",
       " 'charlies',\n",
       " 'neighbord',\n",
       " 'fallsduring',\n",
       " 'acknowledgment',\n",
       " 'sizeable',\n",
       " 'clothesduring',\n",
       " 'toungest',\n",
       " 'amornia',\n",
       " 'intimidated',\n",
       " 'newlywed',\n",
       " 'casaron',\n",
       " 'usuallly',\n",
       " 'klutzy',\n",
       " 'exist',\n",
       " 'maganement',\n",
       " 'concluded',\n",
       " 'gooduntil',\n",
       " 'finaly',\n",
       " 'lefy',\n",
       " 'imaging',\n",
       " 'permiso',\n",
       " 'obedient',\n",
       " 'claira',\n",
       " 'meade',\n",
       " 'poopng',\n",
       " 'cumpleaos',\n",
       " 'wasshe',\n",
       " 'engergy',\n",
       " 'metieron',\n",
       " 'skimmed',\n",
       " 'fanciful',\n",
       " 'conscience',\n",
       " 'rejoiced',\n",
       " 'perdido',\n",
       " 'admit',\n",
       " 'gor',\n",
       " 'fanciest',\n",
       " 'discurso',\n",
       " 'reassure',\n",
       " 'retiro',\n",
       " 'brag',\n",
       " 'huse',\n",
       " 'stupendous',\n",
       " 'moderatly',\n",
       " 'rhyme',\n",
       " 'entonces',\n",
       " 'escenario',\n",
       " 'bonney',\n",
       " 'accrued',\n",
       " 'acheived',\n",
       " 'prometedora',\n",
       " 'observed',\n",
       " 'kidsher',\n",
       " 'veyr',\n",
       " 'flu',\n",
       " 'para',\n",
       " 'despus',\n",
       " 'tha',\n",
       " 'toby',\n",
       " 'oregon',\n",
       " 'acknowledge',\n",
       " 'casinoshe',\n",
       " 'bake',\n",
       " 'addiction',\n",
       " 'parculiaritiesin',\n",
       " 'mucha',\n",
       " 'homesick',\n",
       " 'sabe',\n",
       " 'inhertiance',\n",
       " 'emioyemioyemioyemioyemioyemioyemioyemioyemioyemioyemioyemioyemioy',\n",
       " 'colder',\n",
       " 'talento',\n",
       " 'esto',\n",
       " 'mejor',\n",
       " 'trigger',\n",
       " 'woth',\n",
       " 'offtrack',\n",
       " 'enduring',\n",
       " 'violator',\n",
       " 'deided',\n",
       " 'tenis',\n",
       " 'spillled',\n",
       " 'snickit',\n",
       " 'planear',\n",
       " 'sido',\n",
       " 'wheat',\n",
       " 'sheltered',\n",
       " 'algo',\n",
       " 'obligada',\n",
       " 'coworkershe',\n",
       " 'coldthey',\n",
       " 'termin',\n",
       " 'desolate',\n",
       " 'daring',\n",
       " 'trata',\n",
       " 'clay',\n",
       " 'salty',\n",
       " 'countless',\n",
       " 'deicdes',\n",
       " 'surface',\n",
       " 'misainghe',\n",
       " 'concrete',\n",
       " 'uncleanliness',\n",
       " 'combine',\n",
       " 'llamado',\n",
       " 'pudo',\n",
       " 'snort',\n",
       " 'reminensed',\n",
       " 'reader',\n",
       " 'snobby',\n",
       " 'smartly',\n",
       " 'adoptar',\n",
       " 'groaning',\n",
       " 'sumamente',\n",
       " 'joven',\n",
       " 'mange',\n",
       " 'rethink',\n",
       " 'sprung',\n",
       " 'corriendo',\n",
       " 'pizzaon',\n",
       " 'moral',\n",
       " 'presentar',\n",
       " 'ghetto',\n",
       " 'deodorant',\n",
       " ...}"
      ]
     },
     "execution_count": 14,
     "metadata": {},
     "output_type": "execute_result"
    }
   ],
   "source": [
    "g3vocab - g2vocab - g1vocab - g0vocab # Lots of spelling mistakes and non-dictionary words"
   ]
  },
  {
   "cell_type": "code",
   "execution_count": 15,
   "metadata": {},
   "outputs": [
    {
     "name": "stdout",
     "output_type": "stream",
     "text": [
      "G0 has 878 dictionary vocabulary.\n",
      "G1 has 3581 dictionary vocabulary.\n",
      "G2 has 5548 dictionary vocabulary.\n",
      "G3 has 5233 dictionary vocabulary.\n"
     ]
    }
   ],
   "source": [
    "from nltk.corpus import words\n",
    "\n",
    "dictionary_words = set([lemma.lemmatize(word.lower()) for word in list(set(words.words()))]) # Lowercased and lemmatised dictionary set\n",
    "\n",
    "# Many unique vocabulary are spelling errors so we filter out dictionary words here\n",
    "g0dictvocab = g0vocab.intersection(dictionary_words)\n",
    "g1dictvocab = g1vocab.intersection(dictionary_words)\n",
    "g2dictvocab = g2vocab.intersection(dictionary_words)\n",
    "g3dictvocab = g3vocab.intersection(dictionary_words)\n",
    "print(\"G0 has\",len(g0dictvocab),\"dictionary vocabulary.\") # Length is shorter due to out-of-dictionary words such as names\n",
    "print(\"G1 has\",len(g1dictvocab),\"dictionary vocabulary.\")\n",
    "print(\"G2 has\",len(g2dictvocab),\"dictionary vocabulary.\")\n",
    "print(\"G3 has\",len(g3dictvocab),\"dictionary vocabulary.\")"
   ]
  },
  {
   "cell_type": "code",
   "execution_count": 16,
   "metadata": {},
   "outputs": [
    {
     "name": "stdout",
     "output_type": "stream",
     "text": [
      "G1 has 2708 more dictionary vocabulary than G0\n",
      "G2 has 4677 more dictionary vocabulary than G0\n",
      "G3 has 4371 more dictionary vocabulary than G0\n"
     ]
    }
   ],
   "source": [
    "vocab_diff_g0g1 = g1dictvocab - g0dictvocab\n",
    "print(\"G1 has\",len(vocab_diff_g0g1),\"more dictionary vocabulary than G0\")\n",
    "\n",
    "vocab_diff_g0g2 = g2dictvocab - g0dictvocab\n",
    "print(\"G2 has\",len(vocab_diff_g0g2),\"more dictionary vocabulary than G0\")\n",
    "\n",
    "vocab_diff_g0g3 = g3dictvocab - g0dictvocab\n",
    "print(\"G3 has\",len(vocab_diff_g0g3),\"more dictionary vocabulary than G0\")"
   ]
  },
  {
   "cell_type": "code",
   "execution_count": 17,
   "metadata": {},
   "outputs": [
    {
     "name": "stdout",
     "output_type": "stream",
     "text": [
      "G2 has 2357 more dictionary vocabulary than G1\n",
      "G3 has 2245 more dictionary vocabulary than G1\n",
      "G3 has 1122 more dictionary vocabulary than G2\n"
     ]
    }
   ],
   "source": [
    "vocab_diff_g1g2 = g2dictvocab - g1dictvocab\n",
    "print(\"G2 has\",len(vocab_diff_g1g2),\"more dictionary vocabulary than G1\")\n",
    "\n",
    "vocab_diff_g1g3 = g3dictvocab - g1dictvocab\n",
    "print(\"G3 has\",len(vocab_diff_g1g3),\"more dictionary vocabulary than G1\")\n",
    "\n",
    "vocab_diff_g2g3 = g3dictvocab - g2dictvocab\n",
    "print(\"G3 has\",len(vocab_diff_g2g3),\"more dictionary vocabulary than G2\")"
   ]
  },
  {
   "cell_type": "code",
   "execution_count": 18,
   "metadata": {},
   "outputs": [
    {
     "name": "stdout",
     "output_type": "stream",
     "text": [
      "G3 has 1013 more dictionary vocabulary than G1 and G2 combined\n",
      "G3 has 1013 more dictionary vocabulary than G0, G1 and G2 combined\n"
     ]
    }
   ],
   "source": [
    "vocab_diff_g1g2g3 = g3dictvocab - g2dictvocab - g1dictvocab\n",
    "print(\"G3 has\",len(vocab_diff_g1g2g3),\"more dictionary vocabulary than G1 and G2 combined\")\n",
    "vocab_diff_g0g1g2g3 = g3dictvocab - g2dictvocab - g1dictvocab - g0dictvocab\n",
    "print(\"G3 has\",len(vocab_diff_g0g1g2g3),\"more dictionary vocabulary than G0, G1 and G2 combined\")"
   ]
  },
  {
   "cell_type": "code",
   "execution_count": 19,
   "metadata": {},
   "outputs": [
    {
     "data": {
      "image/png": "[encoded data removed]",
      "text/plain": [
       "<Figure size 432x288 with 1 Axes>"
      ]
     },
     "metadata": {
      "needs_background": "light"
     },
     "output_type": "display_data"
    },
    {
     "data": {
      "text/plain": [
       "<matplotlib.axes._subplots.AxesSubplot at 0x12fa99d50>"
      ]
     },
     "execution_count": 19,
     "metadata": {},
     "output_type": "execute_result"
    }
   ],
   "source": [
    "f = FreqDist([ w for w in flattened_g3 if w in vocab_diff_g0g1g2g3])\n",
    "f.plot(30, cumulative=False)"
   ]
  },
  {
   "cell_type": "code",
   "execution_count": 20,
   "metadata": {},
   "outputs": [],
   "source": [
    "# Find dictionary vocabulary per story\n",
    "def find_dict_vocab_ps(words_ps):\n",
    "    dict_vocab_ps = []\n",
    "    for story in words_ps:\n",
    "        vocab = set(story)\n",
    "        dict_vocab = vocab.intersection(dictionary_words)\n",
    "        dict_vocab_ps.append(dict_vocab)\n",
    "    return(dict_vocab_ps)\n",
    "\n",
    "g0_dict_vocab_ps = find_dict_vocab_ps(g0words)\n",
    "g1_dict_vocab_ps = find_dict_vocab_ps(g1words)\n",
    "g2_dict_vocab_ps = find_dict_vocab_ps(g2words)\n",
    "g3_dict_vocab_ps = find_dict_vocab_ps(g3words)"
   ]
  },
  {
   "cell_type": "code",
   "execution_count": 21,
   "metadata": {},
   "outputs": [],
   "source": [
    "#set(g1df['G1 Reading habits'])\n",
    "#g1rh = []\n",
    "#for s in g1df['G1 Reading habits']:\n",
    "#    if s == '&lt;10' or s == '0-10':\n",
    "#        g1rh.append(10)\n",
    "#    elif s == '0 minutes as fiction is not something I am into' or s == 'zero':\n",
    "#        g1rh.append(0)\n",
    "#    elif s == '0 to 30' or s == 'varies':\n",
    "#        g1rh.append(30)\n",
    "#    elif s == '120ish':\n",
    "#        g1rh.append(120)\n",
    "#    else:\n",
    "#        g1rh.append(int(s))\n",
    "\n",
    "#g1dvps = [len(s) for s in g1_dict_vocab_ps]\n",
    "#g2dvps = [len(s) for s in g2_dict_vocab_ps]\n",
    "#g3dvps = [len(s) for s in g3_dict_vocab_ps]\n",
    "\n",
    "#f, axes = plt.subplots(1, 3, figsize=(15, 5),sharey=True)\n",
    "#sns.scatterplot(x=g1dvps, y=g1rh)"
   ]
  },
  {
   "cell_type": "code",
   "execution_count": 22,
   "metadata": {},
   "outputs": [],
   "source": [
    "def find_dict_vocab_diff_ps(vocab_ps1,vocab_ps2):\n",
    "    vocab_diff_per_story = []\n",
    "    for i in range(8576):\n",
    "        vocab_diff = vocab_ps1[i] - vocab_ps2[i]\n",
    "        vocab_diff_per_story.append(len(vocab_diff))\n",
    "    return(vocab_diff_per_story)\n",
    "\n",
    "g1_vs_g0 = find_dict_vocab_diff_ps(g1_dict_vocab_ps, g0_dict_vocab_ps)\n",
    "g2_vs_g0 = find_dict_vocab_diff_ps(g2_dict_vocab_ps, g0_dict_vocab_ps)\n",
    "g3_vs_g0 = find_dict_vocab_diff_ps(g3_dict_vocab_ps, g0_dict_vocab_ps)\n",
    "g2_vs_g1 = find_dict_vocab_diff_ps(g2_dict_vocab_ps, g1_dict_vocab_ps)\n",
    "g3_vs_g1 = find_dict_vocab_diff_ps(g3_dict_vocab_ps, g1_dict_vocab_ps)\n",
    "g3_vs_g2 = find_dict_vocab_diff_ps(g3_dict_vocab_ps, g2_dict_vocab_ps)\n",
    "    \n",
    "g3_vs_g2_n_g1 = []\n",
    "for i in range(8576):\n",
    "    vocab_diff = g3_dict_vocab_ps[i] - g2_dict_vocab_ps[i] - g1_dict_vocab_ps[i]\n",
    "    g3_vs_g2_n_g1.append(len(vocab_diff))\n",
    "    \n",
    "vocab_diffs = pd.DataFrame(\n",
    "    {'g1_vs_g0': g1_vs_g0, 'g2_vs_g0': g2_vs_g0, 'g3_vs_g0': g3_vs_g0, \n",
    "     'g2_vs_g1': g2_vs_g1, 'g3_vs_g1': g3_vs_g1, 'g3_vs_g2': g3_vs_g2})\n",
    "     #,'g3_vs_g2_n_g1': g3_vs_g2_n_g1})"
   ]
  },
  {
   "cell_type": "code",
   "execution_count": 23,
   "metadata": {},
   "outputs": [
    {
     "data": {
      "text/plain": [
       "<matplotlib.axes._subplots.AxesSubplot at 0x12dd07250>"
      ]
     },
     "execution_count": 23,
     "metadata": {},
     "output_type": "execute_result"
    },
    {
     "data": {
      "image/png": "[encoded data removed]",
      "text/plain": [
       "<Figure size 1080x360 with 6 Axes>"
      ]
     },
     "metadata": {
      "needs_background": "light"
     },
     "output_type": "display_data"
    }
   ],
   "source": [
    "f, axes = plt.subplots(2, 3, figsize=(15, 5),sharey=True)\n",
    "sns.distplot(g1_vs_g0, color=\"r\", ax=axes[0,0])\n",
    "sns.distplot(g2_vs_g0, color=\"g\", ax=axes[0,1])\n",
    "sns.distplot(g3_vs_g0, color=\"b\", ax=axes[0,2])\n",
    "sns.distplot(g2_vs_g1, color=\"y\", ax=axes[1,0])\n",
    "sns.distplot(g3_vs_g1, color=\"k\", ax=axes[1,1])\n",
    "sns.distplot(g3_vs_g2, color=\"m\", ax=axes[1,2])\n",
    "#sns.distplot(g3_vs_g2_n_g1, color=\"m\", ax=axes[3])"
   ]
  },
  {
   "cell_type": "code",
   "execution_count": 24,
   "metadata": {},
   "outputs": [
    {
     "name": "stdout",
     "output_type": "stream",
     "text": [
      "G1vsG0 Mean: 12.187383395522389 SD: 7.354019890180612\n",
      "G2vsG0 Mean: 12.266907649253731 SD: 7.706849423120348\n",
      "G3vsG0 Mean: 10.085237873134329 SD: 6.047529129499726\n",
      "G2vsG1 Mean: 10.305736940298507 SD: 7.715531481546809\n",
      "G3vsG1 Mean: 9.622784514925373 SD: 6.132274730137229\n",
      "G3vsG2 Mean: 7.288596082089552 SD: 5.514489951778699\n",
      "G3vsG2nG1 Mean: 6.338852611940299 SD: 5.140372085368719\n"
     ]
    }
   ],
   "source": [
    "print(\"G1vsG0 Mean:\",np.mean(g1_vs_g0),\"SD:\",np.std(g1_vs_g0))\n",
    "print(\"G2vsG0 Mean:\",np.mean(g2_vs_g0),\"SD:\",np.std(g2_vs_g0))\n",
    "print(\"G3vsG0 Mean:\",np.mean(g3_vs_g0),\"SD:\",np.std(g3_vs_g0))\n",
    "print(\"G2vsG1 Mean:\",np.mean(g2_vs_g1),\"SD:\",np.std(g2_vs_g1))\n",
    "print(\"G3vsG1 Mean:\",np.mean(g3_vs_g1),\"SD:\",np.std(g3_vs_g1))\n",
    "print(\"G3vsG2 Mean:\",np.mean(g3_vs_g2),\"SD:\",np.std(g3_vs_g2))\n",
    "print(\"G3vsG2nG1 Mean:\",np.mean(g3_vs_g2_n_g1),\"SD:\",np.std(g3_vs_g2_n_g1))"
   ]
  },
  {
   "cell_type": "code",
   "execution_count": 25,
   "metadata": {},
   "outputs": [
    {
     "data": {
      "text/plain": [
       "<matplotlib.axes._subplots.AxesSubplot at 0x12ee1ae50>"
      ]
     },
     "execution_count": 25,
     "metadata": {},
     "output_type": "execute_result"
    },
    {
     "data": {
      "image/png": "[encoded data removed]",
      "text/plain": [
       "<Figure size 432x288 with 1 Axes>"
      ]
     },
     "metadata": {
      "needs_background": "light"
     },
     "output_type": "display_data"
    }
   ],
   "source": [
    "sns.boxplot(data=vocab_diffs, whis=[0, 100], palette=\"vlag\")"
   ]
  },
  {
   "cell_type": "code",
   "execution_count": 26,
   "metadata": {},
   "outputs": [
    {
     "data": {
      "text/plain": [
       "8236"
      ]
     },
     "execution_count": 26,
     "metadata": {},
     "output_type": "execute_result"
    }
   ],
   "source": [
    "g2_vs_g1.index(174) # Find index of outlier in g2_vs_g1"
   ]
  },
  {
   "cell_type": "code",
   "execution_count": 27,
   "metadata": {},
   "outputs": [
    {
     "data": {
      "text/plain": [
       "'The Sanders were a boisterous, red-headed family who lived on a farm in Idaho. The mother and father had four children together: James, Lucy, Mary, and Jonny. James excelled at football, Lucy painted, and Mary played the guitar quite skillfully. However, Jonny, the youngest and smallest of the group, had yet to have found his talent. His older siblings picked on Jonny mercilessly for this and didn’t allow him to play with them, which sometimes made him feel lonely. For his 9th birthday, Mama and Papa Sanders gave Jonny a small pet. This greatly raised Jonny’s spirits because at last, he had something that none of the other children had: a puppy named Snicket whom he loved greatly. One day, on a cold morning in December, Snicket went outside and failed to return. For days, Jonny searched the farm. On the fifth day, Jonny went to the forest adjacent to the family barn to investigate. While he was walking a well-worn path in the woods, Jonny saw a tail sticking out from under a bush. When he looked, Jonny found Snicket in the snow. The puppy’s left eye socket was bloody; he appeared to have lost his eye and was whimpering in pain.'"
      ]
     },
     "execution_count": 27,
     "metadata": {},
     "output_type": "execute_result"
    }
   ],
   "source": [
    "g0df['Original text'][8236]"
   ]
  },
  {
   "cell_type": "code",
   "execution_count": 28,
   "metadata": {},
   "outputs": [
    {
     "data": {
      "text/plain": [
       "'The Sanders family was a lively, red-headed bunch who lived on a farm in Idaho. Mr. and Mrs. Sanders had four children: James, Lucy, Mary and Jonny. James was a good football player, Lucy painted well, and Mary was a good guitarist. Jonny, however had not yet found his special talent, and his brother and sisters teased him and sometimes wouldn’t even play with him, making him feel lonely and left out. For Jonny’s ninth birthday, his parents gave him a small pet, a dog he named Snicket. Jonny loved Snicket, and he finally felt special because he had something his siblings didn’t. One cold December day, Snicket went missing. Jonny looked and looked for him. Finally, he started down a well-worn path in the forest next to the family barn. Soon he noticed a tail sticking out from under a bush. There he found Snicket. The puppy had a bloody left-eye socket from losing his eye and he was whimpering.'"
      ]
     },
     "execution_count": 28,
     "metadata": {},
     "output_type": "execute_result"
    }
   ],
   "source": [
    "g1df['G1 Story'][8236]"
   ]
  },
  {
   "cell_type": "code",
   "execution_count": 29,
   "metadata": {},
   "outputs": [
    {
     "data": {
      "text/plain": [
       "'Jonny was a very average kid. He got passing grades in school, but nothing good enough to get noticed. He wasn\\'t much of an artist, but liked to paint a bit. He wasn\\'t the most athletic kid, but he was never chosen last in a schoolyard pick. Unfortunately, he had the most rotten luck. He was born to the Sanders, a family of earnest farmers in Idaho. That may not seem like an unlucky situation, but everyone in the family was great at something.  /  / Jonny\\'s brother, James, was the star of the high school football team and was even being scouted by colleges. Lucy was a painter, and not only had she won several county art competitions, but she was commissioned by the local library to paint a mural in their new kids section. And Mary. Mary was in a band, but not just any band: The Twelth Hammer, a relatively well known folk rock band, at least in their neck of the woods. Mary was their guitarist. But Jonny? He didn\\'t really have anything going for him. He made a really mean pan of spaghetti, provided his mom was watching.  /  / All of his siblings never really had time for him, as all of their hobbies took most of their time. It didn\\'t help that he was the youngest. Most days he was left to just play by himself. There weren\\'t even any neighbors around, as the closest house was a couple miles away. Jonny would often spend his days sitting by the fence for the cow pasture. At least they seemed to like him. Eventually the winter months kept him from doing even that, and he quietly grew more miserable. That is, until his birthday a few days into December. His parents gave him a little puppy, Snicket, to keep him company.  /  / The pair were instantly inseparable, and Jonny quickly started to teach Snicket some tricks. \"Come.\" \"Sit.\" \"Shake.\" As the weeks went on, the pair grew particularly close. The boy almost didn\\'t notice how little his siblings were in his life, as almost all his waking hours were spent with the dog. As the days went on, things got into a routine. Every day, so as not to wake up Jonny, his father would take Snicket out to go to the bathroom, then let him nap by the fire until the boy woke up. And it was like that for awhile. Until one morning when the father forgot to close the door to outside.  /  / When Jonny woke up, he almost instantly felt like something was wrong. But he couldn\\'t say what. Then it struck him. Snicket wasn\\'t by the fire, and the door was slightly ajar. Throwing on his coat, johnny rushed outside. The snow on the ground made it easier to track the dog, but with how small it was, it often didn\\'t leave any. Jonny checked everywhere. The pastures, the barn, under the porch, until he spied a trail leading into the woods. He dashed through the snow, trying to find Snicket.  /  / With a rush of relief, he spied Snicket in a bush. The dog\\'s tail was between its legs, and it was whimpering. It could barely be heard over the wind. The snow around Snicket was stained red, and as Jonny got closer, he saw why. Snicket\\'s left eye was missing, leaving nothing but a bloody hole. The boy pulled the dog close, comforting it. It was shivering fiercely, but in his embrace it slow stopped whimpering and shivering. Its tail slowly rose from between its legs, and began to wag very slowly. Finally, Jonny felt his true calling. He loved animals, and they loved him. '"
      ]
     },
     "execution_count": 29,
     "metadata": {},
     "output_type": "execute_result"
    }
   ],
   "source": [
    "g2df['G2 Retelling'][8236]"
   ]
  },
  {
   "cell_type": "code",
   "execution_count": 30,
   "metadata": {},
   "outputs": [
    {
     "name": "stdout",
     "output_type": "stream",
     "text": [
      "1.0\n",
      "21\n",
      "1.0\n",
      "1.0\n",
      "100\n"
     ]
    }
   ],
   "source": [
    "print(g2df['G2 Gender'][8236])\n",
    "print(g2df['G2 Age'][8236])\n",
    "print(g2df['G2 Native Lang'][8236])\n",
    "print(g2df['G2 Edu'][8236])\n",
    "print(g2df['G2 Reading habits'][8236])"
   ]
  },
  {
   "cell_type": "code",
   "execution_count": 31,
   "metadata": {},
   "outputs": [
    {
     "data": {
      "image/png": "[encoded data removed]",
      "text/plain": [
       "<Figure size 432x288 with 1 Axes>"
      ]
     },
     "metadata": {
      "needs_background": "light"
     },
     "output_type": "display_data"
    }
   ],
   "source": [
    "from wordcloud import WordCloud\n",
    "# Create and generate a word cloud image:\n",
    "wordcloud = WordCloud().generate(g2df['G2 Retelling'][8236])\n",
    "\n",
    "# Display the generated image:\n",
    "plt.imshow(wordcloud, interpolation='bilinear')\n",
    "plt.axis(\"off\")\n",
    "plt.show()"
   ]
  },
  {
   "cell_type": "markdown",
   "metadata": {},
   "source": [
    "## Exploratory Data Analysis"
   ]
  },
  {
   "cell_type": "code",
   "execution_count": 32,
   "metadata": {},
   "outputs": [
    {
     "data": {
      "text/plain": [
       "'the sanders family was a lively, red-headed bunch who lived on a farm in idaho. mr. and mrs. sanders had four children: james, lucy, mary and jonny. james was a good football player, lucy painted well, and mary was a good guitarist. jonny, however had not yet found his special talent, and his brother and sisters teased him and sometimes wouldn’t even play with him, making him feel lonely and left out. for jonny’s ninth birthday, his parents gave him a small pet, a dog he named snicket. jonny loved snicket, and he finally felt special because he had something his siblings didn’t. one cold december day, snicket went missing. jonny looked and looked for him. finally, he started down a well-worn path in the forest next to the family barn. soon he noticed a tail sticking out from under a bush. there he found snicket. the puppy had a bloody left-eye socket from losing his eye and he was whimpering.'"
      ]
     },
     "execution_count": 32,
     "metadata": {},
     "output_type": "execute_result"
    }
   ],
   "source": [
    "g1df['G1 Story'][8236].lower()"
   ]
  },
  {
   "cell_type": "markdown",
   "metadata": {},
   "source": [
    "## BERT"
   ]
  },
  {
   "cell_type": "code",
   "execution_count": 33,
   "metadata": {},
   "outputs": [
    {
     "name": "stderr",
     "output_type": "stream",
     "text": [
      "//anaconda3/lib/python3.7/site-packages/tensorflow/python/framework/dtypes.py:526: FutureWarning: Passing (type, 1) or '1type' as a synonym of type is deprecated; in a future version of numpy, it will be understood as (type, (1,)) / '(1,)type'.\n",
      "  _np_qint8 = np.dtype([(\"qint8\", np.int8, 1)])\n",
      "//anaconda3/lib/python3.7/site-packages/tensorflow/python/framework/dtypes.py:527: FutureWarning: Passing (type, 1) or '1type' as a synonym of type is deprecated; in a future version of numpy, it will be understood as (type, (1,)) / '(1,)type'.\n",
      "  _np_quint8 = np.dtype([(\"quint8\", np.uint8, 1)])\n",
      "//anaconda3/lib/python3.7/site-packages/tensorflow/python/framework/dtypes.py:528: FutureWarning: Passing (type, 1) or '1type' as a synonym of type is deprecated; in a future version of numpy, it will be understood as (type, (1,)) / '(1,)type'.\n",
      "  _np_qint16 = np.dtype([(\"qint16\", np.int16, 1)])\n",
      "//anaconda3/lib/python3.7/site-packages/tensorflow/python/framework/dtypes.py:529: FutureWarning: Passing (type, 1) or '1type' as a synonym of type is deprecated; in a future version of numpy, it will be understood as (type, (1,)) / '(1,)type'.\n",
      "  _np_quint16 = np.dtype([(\"quint16\", np.uint16, 1)])\n",
      "//anaconda3/lib/python3.7/site-packages/tensorflow/python/framework/dtypes.py:530: FutureWarning: Passing (type, 1) or '1type' as a synonym of type is deprecated; in a future version of numpy, it will be understood as (type, (1,)) / '(1,)type'.\n",
      "  _np_qint32 = np.dtype([(\"qint32\", np.int32, 1)])\n",
      "//anaconda3/lib/python3.7/site-packages/tensorflow/python/framework/dtypes.py:535: FutureWarning: Passing (type, 1) or '1type' as a synonym of type is deprecated; in a future version of numpy, it will be understood as (type, (1,)) / '(1,)type'.\n",
      "  np_resource = np.dtype([(\"resource\", np.ubyte, 1)])\n",
      "//anaconda3/lib/python3.7/site-packages/tensorboard/compat/tensorflow_stub/dtypes.py:541: FutureWarning: Passing (type, 1) or '1type' as a synonym of type is deprecated; in a future version of numpy, it will be understood as (type, (1,)) / '(1,)type'.\n",
      "  _np_qint8 = np.dtype([(\"qint8\", np.int8, 1)])\n",
      "//anaconda3/lib/python3.7/site-packages/tensorboard/compat/tensorflow_stub/dtypes.py:542: FutureWarning: Passing (type, 1) or '1type' as a synonym of type is deprecated; in a future version of numpy, it will be understood as (type, (1,)) / '(1,)type'.\n",
      "  _np_quint8 = np.dtype([(\"quint8\", np.uint8, 1)])\n",
      "//anaconda3/lib/python3.7/site-packages/tensorboard/compat/tensorflow_stub/dtypes.py:543: FutureWarning: Passing (type, 1) or '1type' as a synonym of type is deprecated; in a future version of numpy, it will be understood as (type, (1,)) / '(1,)type'.\n",
      "  _np_qint16 = np.dtype([(\"qint16\", np.int16, 1)])\n",
      "//anaconda3/lib/python3.7/site-packages/tensorboard/compat/tensorflow_stub/dtypes.py:544: FutureWarning: Passing (type, 1) or '1type' as a synonym of type is deprecated; in a future version of numpy, it will be understood as (type, (1,)) / '(1,)type'.\n",
      "  _np_quint16 = np.dtype([(\"quint16\", np.uint16, 1)])\n",
      "//anaconda3/lib/python3.7/site-packages/tensorboard/compat/tensorflow_stub/dtypes.py:545: FutureWarning: Passing (type, 1) or '1type' as a synonym of type is deprecated; in a future version of numpy, it will be understood as (type, (1,)) / '(1,)type'.\n",
      "  _np_qint32 = np.dtype([(\"qint32\", np.int32, 1)])\n",
      "//anaconda3/lib/python3.7/site-packages/tensorboard/compat/tensorflow_stub/dtypes.py:550: FutureWarning: Passing (type, 1) or '1type' as a synonym of type is deprecated; in a future version of numpy, it will be understood as (type, (1,)) / '(1,)type'.\n",
      "  np_resource = np.dtype([(\"resource\", np.ubyte, 1)])\n"
     ]
    },
    {
     "name": "stdout",
     "output_type": "stream",
     "text": [
      " Original:  The Sanders were a boisterous, red-headed family who lived on a farm in Idaho. The mother and father had four children together: James, Lucy, Mary, and Jonny. James excelled at football, Lucy painted, and Mary played the guitar quite skillfully. However, Jonny, the youngest and smallest of the group, had yet to have found his talent. His older siblings picked on Jonny mercilessly for this and didn’t allow him to play with them, which sometimes made him feel lonely. For his 9th birthday, Mama and Papa Sanders gave Jonny a small pet. This greatly raised Jonny’s spirits because at last, he had something that none of the other children had: a puppy named Snicket whom he loved greatly. One day, on a cold morning in December, Snicket went outside and failed to return. For days, Jonny searched the farm. On the fifth day, Jonny went to the forest adjacent to the family barn to investigate. While he was walking a well-worn path in the woods, Jonny saw a tail sticking out from under a bush. When he looked, Jonny found Snicket in the snow. The puppy’s left eye socket was bloody; he appeared to have lost his eye and was whimpering in pain.\n",
      "Tokenized:  ['the', 'sanders', 'were', 'a', 'bois', '##ter', '##ous', ',', 'red', '-', 'headed', 'family', 'who', 'lived', 'on', 'a', 'farm', 'in', 'idaho', '.', 'the', 'mother', 'and', 'father', 'had', 'four', 'children', 'together', ':', 'james', ',', 'lucy', ',', 'mary', ',', 'and', 'jonny', '.', 'james', 'excelled', 'at', 'football', ',', 'lucy', 'painted', ',', 'and', 'mary', 'played', 'the', 'guitar', 'quite', 'skill', '##fully', '.', 'however', ',', 'jonny', ',', 'the', 'youngest', 'and', 'smallest', 'of', 'the', 'group', ',', 'had', 'yet', 'to', 'have', 'found', 'his', 'talent', '.', 'his', 'older', 'siblings', 'picked', 'on', 'jonny', 'mer', '##ci', '##lessly', 'for', 'this', 'and', 'didn', '’', 't', 'allow', 'him', 'to', 'play', 'with', 'them', ',', 'which', 'sometimes', 'made', 'him', 'feel', 'lonely', '.', 'for', 'his', '9th', 'birthday', ',', 'mama', 'and', 'papa', 'sanders', 'gave', 'jonny', 'a', 'small', 'pet', '.', 'this', 'greatly', 'raised', 'jonny', '’', 's', 'spirits', 'because', 'at', 'last', ',', 'he', 'had', 'something', 'that', 'none', 'of', 'the', 'other', 'children', 'had', ':', 'a', 'puppy', 'named', 's', '##nick', '##et', 'whom', 'he', 'loved', 'greatly', '.', 'one', 'day', ',', 'on', 'a', 'cold', 'morning', 'in', 'december', ',', 's', '##nick', '##et', 'went', 'outside', 'and', 'failed', 'to', 'return', '.', 'for', 'days', ',', 'jonny', 'searched', 'the', 'farm', '.', 'on', 'the', 'fifth', 'day', ',', 'jonny', 'went', 'to', 'the', 'forest', 'adjacent', 'to', 'the', 'family', 'barn', 'to', 'investigate', '.', 'while', 'he', 'was', 'walking', 'a', 'well', '-', 'worn', 'path', 'in', 'the', 'woods', ',', 'jonny', 'saw', 'a', 'tail', 'sticking', 'out', 'from', 'under', 'a', 'bush', '.', 'when', 'he', 'looked', ',', 'jonny', 'found', 's', '##nick', '##et', 'in', 'the', 'snow', '.', 'the', 'puppy', '’', 's', 'left', 'eye', 'socket', 'was', 'bloody', ';', 'he', 'appeared', 'to', 'have', 'lost', 'his', 'eye', 'and', 'was', 'whimper', '##ing', 'in', 'pain', '.']\n",
      "Token IDs:  [1996, 12055, 2020, 1037, 19651, 3334, 3560, 1010, 2417, 1011, 3753, 2155, 2040, 2973, 2006, 1037, 3888, 1999, 9795, 1012, 1996, 2388, 1998, 2269, 2018, 2176, 2336, 2362, 1024, 2508, 1010, 7004, 1010, 2984, 1010, 1998, 26937, 1012, 2508, 23081, 2012, 2374, 1010, 7004, 4993, 1010, 1998, 2984, 2209, 1996, 2858, 3243, 8066, 7699, 1012, 2174, 1010, 26937, 1010, 1996, 6587, 1998, 10479, 1997, 1996, 2177, 1010, 2018, 2664, 2000, 2031, 2179, 2010, 5848, 1012, 2010, 3080, 9504, 3856, 2006, 26937, 21442, 6895, 10895, 2005, 2023, 1998, 2134, 1521, 1056, 3499, 2032, 2000, 2377, 2007, 2068, 1010, 2029, 2823, 2081, 2032, 2514, 9479, 1012, 2005, 2010, 6280, 5798, 1010, 9588, 1998, 13008, 12055, 2435, 26937, 1037, 2235, 9004, 1012, 2023, 6551, 2992, 26937, 1521, 1055, 8633, 2138, 2012, 2197, 1010, 2002, 2018, 2242, 2008, 3904, 1997, 1996, 2060, 2336, 2018, 1024, 1037, 17022, 2315, 1055, 13542, 3388, 3183, 2002, 3866, 6551, 1012, 2028, 2154, 1010, 2006, 1037, 3147, 2851, 1999, 2285, 1010, 1055, 13542, 3388, 2253, 2648, 1998, 3478, 2000, 2709, 1012, 2005, 2420, 1010, 26937, 9022, 1996, 3888, 1012, 2006, 1996, 3587, 2154, 1010, 26937, 2253, 2000, 1996, 3224, 5516, 2000, 1996, 2155, 8659, 2000, 8556, 1012, 2096, 2002, 2001, 3788, 1037, 2092, 1011, 6247, 4130, 1999, 1996, 5249, 1010, 26937, 2387, 1037, 5725, 13423, 2041, 2013, 2104, 1037, 5747, 1012, 2043, 2002, 2246, 1010, 26937, 2179, 1055, 13542, 3388, 1999, 1996, 4586, 1012, 1996, 17022, 1521, 1055, 2187, 3239, 22278, 2001, 6703, 1025, 2002, 2596, 2000, 2031, 2439, 2010, 3239, 1998, 2001, 28544, 2075, 1999, 3255, 1012]\n"
     ]
    }
   ],
   "source": [
    "import torch\n",
    "from transformers import *\n",
    "from transformers import BertTokenizer\n",
    "\n",
    "tokenizer = BertTokenizer.from_pretrained('bert-base-uncased', do_lower_case=True)\n",
    "\n",
    "sentence = g0df['Original text'][8236]\n",
    "\n",
    "# Print the original sentence.\n",
    "print(' Original: ', sentence)\n",
    "\n",
    "# Print the sentence split into tokens.\n",
    "print('Tokenized: ', tokenizer.tokenize(sentence))\n",
    "\n",
    "# Print the sentence mapped to token ids.\n",
    "print('Token IDs: ', tokenizer.convert_tokens_to_ids(tokenizer.tokenize(sentence)))"
   ]
  },
  {
   "cell_type": "code",
   "execution_count": 34,
   "metadata": {},
   "outputs": [
    {
     "ename": "KeyboardInterrupt",
     "evalue": "",
     "output_type": "error",
     "traceback": [
      "\u001b[0;31m---------------------------------------------------------------------------\u001b[0m",
      "\u001b[0;31mKeyboardInterrupt\u001b[0m                         Traceback (most recent call last)",
      "\u001b[0;32m<ipython-input-34-f1df8feace88>\u001b[0m in \u001b[0;36m<module>\u001b[0;34m\u001b[0m\n\u001b[1;32m     14\u001b[0m     \u001b[0;31m#   (5) Pad or truncate the sentence to `max_length`\u001b[0m\u001b[0;34m\u001b[0m\u001b[0;34m\u001b[0m\u001b[0;34m\u001b[0m\u001b[0m\n\u001b[1;32m     15\u001b[0m     \u001b[0;31m#   (6) Create attention masks for [PAD] tokens.\u001b[0m\u001b[0;34m\u001b[0m\u001b[0;34m\u001b[0m\u001b[0;34m\u001b[0m\u001b[0m\n\u001b[0;32m---> 16\u001b[0;31m     \u001b[0mencoded_dict\u001b[0m \u001b[0;34m=\u001b[0m \u001b[0mtokenizer\u001b[0m\u001b[0;34m.\u001b[0m\u001b[0mencode_plus\u001b[0m\u001b[0;34m(\u001b[0m\u001b[0mstr\u001b[0m\u001b[0;34m(\u001b[0m\u001b[0mstory\u001b[0m\u001b[0;34m)\u001b[0m\u001b[0;34m,\u001b[0m \u001b[0madd_special_tokens\u001b[0m\u001b[0;34m=\u001b[0m\u001b[0;32mTrue\u001b[0m\u001b[0;34m,\u001b[0m \u001b[0mmax_length\u001b[0m\u001b[0;34m=\u001b[0m\u001b[0;36m256\u001b[0m\u001b[0;34m,\u001b[0m \u001b[0mpad_to_max_length\u001b[0m\u001b[0;34m=\u001b[0m\u001b[0;32mTrue\u001b[0m\u001b[0;34m,\u001b[0m \u001b[0mreturn_attention_mask\u001b[0m\u001b[0;34m=\u001b[0m\u001b[0;32mTrue\u001b[0m\u001b[0;34m,\u001b[0m \u001b[0mreturn_tensors\u001b[0m\u001b[0;34m=\u001b[0m\u001b[0;34m'pt'\u001b[0m\u001b[0;34m)\u001b[0m\u001b[0;34m\u001b[0m\u001b[0;34m\u001b[0m\u001b[0m\n\u001b[0m\u001b[1;32m     17\u001b[0m \u001b[0;34m\u001b[0m\u001b[0m\n\u001b[1;32m     18\u001b[0m     \u001b[0;31m# Add the encoded sentence to the list.\u001b[0m\u001b[0;34m\u001b[0m\u001b[0;34m\u001b[0m\u001b[0;34m\u001b[0m\u001b[0m\n",
      "\u001b[0;32m//anaconda3/lib/python3.7/site-packages/transformers/tokenization_utils.py\u001b[0m in \u001b[0;36mencode_plus\u001b[0;34m(self, text, text_pair, add_special_tokens, max_length, stride, truncation_strategy, pad_to_max_length, is_pretokenized, return_tensors, return_token_type_ids, return_attention_mask, return_overflowing_tokens, return_special_tokens_mask, return_offsets_mapping, **kwargs)\u001b[0m\n\u001b[1;32m   1574\u001b[0m             )\n\u001b[1;32m   1575\u001b[0m \u001b[0;34m\u001b[0m\u001b[0m\n\u001b[0;32m-> 1576\u001b[0;31m         \u001b[0mfirst_ids\u001b[0m \u001b[0;34m=\u001b[0m \u001b[0mget_input_ids\u001b[0m\u001b[0;34m(\u001b[0m\u001b[0mtext\u001b[0m\u001b[0;34m)\u001b[0m\u001b[0;34m\u001b[0m\u001b[0;34m\u001b[0m\u001b[0m\n\u001b[0m\u001b[1;32m   1577\u001b[0m         \u001b[0msecond_ids\u001b[0m \u001b[0;34m=\u001b[0m \u001b[0mget_input_ids\u001b[0m\u001b[0;34m(\u001b[0m\u001b[0mtext_pair\u001b[0m\u001b[0;34m)\u001b[0m \u001b[0;32mif\u001b[0m \u001b[0mtext_pair\u001b[0m \u001b[0;32mis\u001b[0m \u001b[0;32mnot\u001b[0m \u001b[0;32mNone\u001b[0m \u001b[0;32melse\u001b[0m \u001b[0;32mNone\u001b[0m\u001b[0;34m\u001b[0m\u001b[0;34m\u001b[0m\u001b[0m\n\u001b[1;32m   1578\u001b[0m \u001b[0;34m\u001b[0m\u001b[0m\n",
      "\u001b[0;32m//anaconda3/lib/python3.7/site-packages/transformers/tokenization_utils.py\u001b[0m in \u001b[0;36mget_input_ids\u001b[0;34m(text)\u001b[0m\n\u001b[1;32m   1546\u001b[0m         \u001b[0;32mdef\u001b[0m \u001b[0mget_input_ids\u001b[0m\u001b[0;34m(\u001b[0m\u001b[0mtext\u001b[0m\u001b[0;34m)\u001b[0m\u001b[0;34m:\u001b[0m\u001b[0;34m\u001b[0m\u001b[0;34m\u001b[0m\u001b[0m\n\u001b[1;32m   1547\u001b[0m             \u001b[0;32mif\u001b[0m \u001b[0misinstance\u001b[0m\u001b[0;34m(\u001b[0m\u001b[0mtext\u001b[0m\u001b[0;34m,\u001b[0m \u001b[0mstr\u001b[0m\u001b[0;34m)\u001b[0m\u001b[0;34m:\u001b[0m\u001b[0;34m\u001b[0m\u001b[0;34m\u001b[0m\u001b[0m\n\u001b[0;32m-> 1548\u001b[0;31m                 \u001b[0mtokens\u001b[0m \u001b[0;34m=\u001b[0m \u001b[0mself\u001b[0m\u001b[0;34m.\u001b[0m\u001b[0mtokenize\u001b[0m\u001b[0;34m(\u001b[0m\u001b[0mtext\u001b[0m\u001b[0;34m,\u001b[0m \u001b[0madd_special_tokens\u001b[0m\u001b[0;34m=\u001b[0m\u001b[0madd_special_tokens\u001b[0m\u001b[0;34m,\u001b[0m \u001b[0;34m**\u001b[0m\u001b[0mkwargs\u001b[0m\u001b[0;34m)\u001b[0m\u001b[0;34m\u001b[0m\u001b[0;34m\u001b[0m\u001b[0m\n\u001b[0m\u001b[1;32m   1549\u001b[0m                 \u001b[0;32mreturn\u001b[0m \u001b[0mself\u001b[0m\u001b[0;34m.\u001b[0m\u001b[0mconvert_tokens_to_ids\u001b[0m\u001b[0;34m(\u001b[0m\u001b[0mtokens\u001b[0m\u001b[0;34m)\u001b[0m\u001b[0;34m\u001b[0m\u001b[0;34m\u001b[0m\u001b[0m\n\u001b[1;32m   1550\u001b[0m             \u001b[0;32melif\u001b[0m \u001b[0misinstance\u001b[0m\u001b[0;34m(\u001b[0m\u001b[0mtext\u001b[0m\u001b[0;34m,\u001b[0m \u001b[0;34m(\u001b[0m\u001b[0mlist\u001b[0m\u001b[0;34m,\u001b[0m \u001b[0mtuple\u001b[0m\u001b[0;34m)\u001b[0m\u001b[0;34m)\u001b[0m \u001b[0;32mand\u001b[0m \u001b[0mlen\u001b[0m\u001b[0;34m(\u001b[0m\u001b[0mtext\u001b[0m\u001b[0;34m)\u001b[0m \u001b[0;34m>\u001b[0m \u001b[0;36m0\u001b[0m \u001b[0;32mand\u001b[0m \u001b[0misinstance\u001b[0m\u001b[0;34m(\u001b[0m\u001b[0mtext\u001b[0m\u001b[0;34m[\u001b[0m\u001b[0;36m0\u001b[0m\u001b[0;34m]\u001b[0m\u001b[0;34m,\u001b[0m \u001b[0mstr\u001b[0m\u001b[0;34m)\u001b[0m\u001b[0;34m:\u001b[0m\u001b[0;34m\u001b[0m\u001b[0;34m\u001b[0m\u001b[0m\n",
      "\u001b[0;32m//anaconda3/lib/python3.7/site-packages/transformers/tokenization_utils.py\u001b[0m in \u001b[0;36mtokenize\u001b[0;34m(self, text, **kwargs)\u001b[0m\n\u001b[1;32m   1280\u001b[0m \u001b[0;34m\u001b[0m\u001b[0m\n\u001b[1;32m   1281\u001b[0m         \u001b[0;32mif\u001b[0m \u001b[0mself\u001b[0m\u001b[0;34m.\u001b[0m\u001b[0minit_kwargs\u001b[0m\u001b[0;34m.\u001b[0m\u001b[0mget\u001b[0m\u001b[0;34m(\u001b[0m\u001b[0;34m\"do_lower_case\"\u001b[0m\u001b[0;34m,\u001b[0m \u001b[0;32mFalse\u001b[0m\u001b[0;34m)\u001b[0m\u001b[0;34m:\u001b[0m\u001b[0;34m\u001b[0m\u001b[0;34m\u001b[0m\u001b[0m\n\u001b[0;32m-> 1282\u001b[0;31m             \u001b[0mtext\u001b[0m \u001b[0;34m=\u001b[0m \u001b[0mlowercase_text\u001b[0m\u001b[0;34m(\u001b[0m\u001b[0mtext\u001b[0m\u001b[0;34m)\u001b[0m\u001b[0;34m\u001b[0m\u001b[0;34m\u001b[0m\u001b[0m\n\u001b[0m\u001b[1;32m   1283\u001b[0m \u001b[0;34m\u001b[0m\u001b[0m\n\u001b[1;32m   1284\u001b[0m         \u001b[0;32mdef\u001b[0m \u001b[0msplit_on_token\u001b[0m\u001b[0;34m(\u001b[0m\u001b[0mtok\u001b[0m\u001b[0;34m,\u001b[0m \u001b[0mtext\u001b[0m\u001b[0;34m)\u001b[0m\u001b[0;34m:\u001b[0m\u001b[0;34m\u001b[0m\u001b[0;34m\u001b[0m\u001b[0m\n",
      "\u001b[0;32m//anaconda3/lib/python3.7/site-packages/transformers/tokenization_utils.py\u001b[0m in \u001b[0;36mlowercase_text\u001b[0;34m(t)\u001b[0m\n\u001b[1;32m   1277\u001b[0m             \u001b[0mescaped_special_toks\u001b[0m \u001b[0;34m=\u001b[0m \u001b[0;34m[\u001b[0m\u001b[0mre\u001b[0m\u001b[0;34m.\u001b[0m\u001b[0mescape\u001b[0m\u001b[0;34m(\u001b[0m\u001b[0ms_tok\u001b[0m\u001b[0;34m)\u001b[0m \u001b[0;32mfor\u001b[0m \u001b[0ms_tok\u001b[0m \u001b[0;32min\u001b[0m \u001b[0mall_special_tokens\u001b[0m\u001b[0;34m]\u001b[0m\u001b[0;34m\u001b[0m\u001b[0;34m\u001b[0m\u001b[0m\n\u001b[1;32m   1278\u001b[0m             \u001b[0mpattern\u001b[0m \u001b[0;34m=\u001b[0m \u001b[0;34mr\"(\"\u001b[0m \u001b[0;34m+\u001b[0m \u001b[0;34mr\"|\"\u001b[0m\u001b[0;34m.\u001b[0m\u001b[0mjoin\u001b[0m\u001b[0;34m(\u001b[0m\u001b[0mescaped_special_toks\u001b[0m\u001b[0;34m)\u001b[0m \u001b[0;34m+\u001b[0m \u001b[0;34mr\")|\"\u001b[0m \u001b[0;34m+\u001b[0m \u001b[0;34mr\"(.+?)\"\u001b[0m\u001b[0;34m\u001b[0m\u001b[0;34m\u001b[0m\u001b[0m\n\u001b[0;32m-> 1279\u001b[0;31m             \u001b[0;32mreturn\u001b[0m \u001b[0mre\u001b[0m\u001b[0;34m.\u001b[0m\u001b[0msub\u001b[0m\u001b[0;34m(\u001b[0m\u001b[0mpattern\u001b[0m\u001b[0;34m,\u001b[0m \u001b[0;32mlambda\u001b[0m \u001b[0mm\u001b[0m\u001b[0;34m:\u001b[0m \u001b[0mm\u001b[0m\u001b[0;34m.\u001b[0m\u001b[0mgroups\u001b[0m\u001b[0;34m(\u001b[0m\u001b[0;34m)\u001b[0m\u001b[0;34m[\u001b[0m\u001b[0;36m0\u001b[0m\u001b[0;34m]\u001b[0m \u001b[0;32mor\u001b[0m \u001b[0mm\u001b[0m\u001b[0;34m.\u001b[0m\u001b[0mgroups\u001b[0m\u001b[0;34m(\u001b[0m\u001b[0;34m)\u001b[0m\u001b[0;34m[\u001b[0m\u001b[0;36m1\u001b[0m\u001b[0;34m]\u001b[0m\u001b[0;34m.\u001b[0m\u001b[0mlower\u001b[0m\u001b[0;34m(\u001b[0m\u001b[0;34m)\u001b[0m\u001b[0;34m,\u001b[0m \u001b[0mt\u001b[0m\u001b[0;34m)\u001b[0m\u001b[0;34m\u001b[0m\u001b[0;34m\u001b[0m\u001b[0m\n\u001b[0m\u001b[1;32m   1280\u001b[0m \u001b[0;34m\u001b[0m\u001b[0m\n\u001b[1;32m   1281\u001b[0m         \u001b[0;32mif\u001b[0m \u001b[0mself\u001b[0m\u001b[0;34m.\u001b[0m\u001b[0minit_kwargs\u001b[0m\u001b[0;34m.\u001b[0m\u001b[0mget\u001b[0m\u001b[0;34m(\u001b[0m\u001b[0;34m\"do_lower_case\"\u001b[0m\u001b[0;34m,\u001b[0m \u001b[0;32mFalse\u001b[0m\u001b[0;34m)\u001b[0m\u001b[0;34m:\u001b[0m\u001b[0;34m\u001b[0m\u001b[0;34m\u001b[0m\u001b[0m\n",
      "\u001b[0;32m//anaconda3/lib/python3.7/re.py\u001b[0m in \u001b[0;36msub\u001b[0;34m(pattern, repl, string, count, flags)\u001b[0m\n\u001b[1;32m    190\u001b[0m     \u001b[0ma\u001b[0m \u001b[0mcallable\u001b[0m\u001b[0;34m,\u001b[0m \u001b[0mit\u001b[0m\u001b[0;31m'\u001b[0m\u001b[0ms\u001b[0m \u001b[0mpassed\u001b[0m \u001b[0mthe\u001b[0m \u001b[0mMatch\u001b[0m \u001b[0mobject\u001b[0m \u001b[0;32mand\u001b[0m \u001b[0mmust\u001b[0m \u001b[0;32mreturn\u001b[0m\u001b[0;34m\u001b[0m\u001b[0;34m\u001b[0m\u001b[0m\n\u001b[1;32m    191\u001b[0m     a replacement string to be used.\"\"\"\n\u001b[0;32m--> 192\u001b[0;31m     \u001b[0;32mreturn\u001b[0m \u001b[0m_compile\u001b[0m\u001b[0;34m(\u001b[0m\u001b[0mpattern\u001b[0m\u001b[0;34m,\u001b[0m \u001b[0mflags\u001b[0m\u001b[0;34m)\u001b[0m\u001b[0;34m.\u001b[0m\u001b[0msub\u001b[0m\u001b[0;34m(\u001b[0m\u001b[0mrepl\u001b[0m\u001b[0;34m,\u001b[0m \u001b[0mstring\u001b[0m\u001b[0;34m,\u001b[0m \u001b[0mcount\u001b[0m\u001b[0;34m)\u001b[0m\u001b[0;34m\u001b[0m\u001b[0;34m\u001b[0m\u001b[0m\n\u001b[0m\u001b[1;32m    193\u001b[0m \u001b[0;34m\u001b[0m\u001b[0m\n\u001b[1;32m    194\u001b[0m \u001b[0;32mdef\u001b[0m \u001b[0msubn\u001b[0m\u001b[0;34m(\u001b[0m\u001b[0mpattern\u001b[0m\u001b[0;34m,\u001b[0m \u001b[0mrepl\u001b[0m\u001b[0;34m,\u001b[0m \u001b[0mstring\u001b[0m\u001b[0;34m,\u001b[0m \u001b[0mcount\u001b[0m\u001b[0;34m=\u001b[0m\u001b[0;36m0\u001b[0m\u001b[0;34m,\u001b[0m \u001b[0mflags\u001b[0m\u001b[0;34m=\u001b[0m\u001b[0;36m0\u001b[0m\u001b[0;34m)\u001b[0m\u001b[0;34m:\u001b[0m\u001b[0;34m\u001b[0m\u001b[0;34m\u001b[0m\u001b[0m\n",
      "\u001b[0;32m//anaconda3/lib/python3.7/site-packages/transformers/tokenization_utils.py\u001b[0m in \u001b[0;36m<lambda>\u001b[0;34m(m)\u001b[0m\n\u001b[1;32m   1277\u001b[0m             \u001b[0mescaped_special_toks\u001b[0m \u001b[0;34m=\u001b[0m \u001b[0;34m[\u001b[0m\u001b[0mre\u001b[0m\u001b[0;34m.\u001b[0m\u001b[0mescape\u001b[0m\u001b[0;34m(\u001b[0m\u001b[0ms_tok\u001b[0m\u001b[0;34m)\u001b[0m \u001b[0;32mfor\u001b[0m \u001b[0ms_tok\u001b[0m \u001b[0;32min\u001b[0m \u001b[0mall_special_tokens\u001b[0m\u001b[0;34m]\u001b[0m\u001b[0;34m\u001b[0m\u001b[0;34m\u001b[0m\u001b[0m\n\u001b[1;32m   1278\u001b[0m             \u001b[0mpattern\u001b[0m \u001b[0;34m=\u001b[0m \u001b[0;34mr\"(\"\u001b[0m \u001b[0;34m+\u001b[0m \u001b[0;34mr\"|\"\u001b[0m\u001b[0;34m.\u001b[0m\u001b[0mjoin\u001b[0m\u001b[0;34m(\u001b[0m\u001b[0mescaped_special_toks\u001b[0m\u001b[0;34m)\u001b[0m \u001b[0;34m+\u001b[0m \u001b[0;34mr\")|\"\u001b[0m \u001b[0;34m+\u001b[0m \u001b[0;34mr\"(.+?)\"\u001b[0m\u001b[0;34m\u001b[0m\u001b[0;34m\u001b[0m\u001b[0m\n\u001b[0;32m-> 1279\u001b[0;31m             \u001b[0;32mreturn\u001b[0m \u001b[0mre\u001b[0m\u001b[0;34m.\u001b[0m\u001b[0msub\u001b[0m\u001b[0;34m(\u001b[0m\u001b[0mpattern\u001b[0m\u001b[0;34m,\u001b[0m \u001b[0;32mlambda\u001b[0m \u001b[0mm\u001b[0m\u001b[0;34m:\u001b[0m \u001b[0mm\u001b[0m\u001b[0;34m.\u001b[0m\u001b[0mgroups\u001b[0m\u001b[0;34m(\u001b[0m\u001b[0;34m)\u001b[0m\u001b[0;34m[\u001b[0m\u001b[0;36m0\u001b[0m\u001b[0;34m]\u001b[0m \u001b[0;32mor\u001b[0m \u001b[0mm\u001b[0m\u001b[0;34m.\u001b[0m\u001b[0mgroups\u001b[0m\u001b[0;34m(\u001b[0m\u001b[0;34m)\u001b[0m\u001b[0;34m[\u001b[0m\u001b[0;36m1\u001b[0m\u001b[0;34m]\u001b[0m\u001b[0;34m.\u001b[0m\u001b[0mlower\u001b[0m\u001b[0;34m(\u001b[0m\u001b[0;34m)\u001b[0m\u001b[0;34m,\u001b[0m \u001b[0mt\u001b[0m\u001b[0;34m)\u001b[0m\u001b[0;34m\u001b[0m\u001b[0;34m\u001b[0m\u001b[0m\n\u001b[0m\u001b[1;32m   1280\u001b[0m \u001b[0;34m\u001b[0m\u001b[0m\n\u001b[1;32m   1281\u001b[0m         \u001b[0;32mif\u001b[0m \u001b[0mself\u001b[0m\u001b[0;34m.\u001b[0m\u001b[0minit_kwargs\u001b[0m\u001b[0;34m.\u001b[0m\u001b[0mget\u001b[0m\u001b[0;34m(\u001b[0m\u001b[0;34m\"do_lower_case\"\u001b[0m\u001b[0;34m,\u001b[0m \u001b[0;32mFalse\u001b[0m\u001b[0;34m)\u001b[0m\u001b[0;34m:\u001b[0m\u001b[0;34m\u001b[0m\u001b[0;34m\u001b[0m\u001b[0m\n",
      "\u001b[0;31mKeyboardInterrupt\u001b[0m: "
     ]
    }
   ],
   "source": [
    "# Tokenize all of the sentences and map the tokens to their word IDs.\n",
    "input_ids = []\n",
    "attention_masks = []\n",
    "\n",
    "g3stories = g3df['G3 Retelling'].values\n",
    "\n",
    "# For every sentence...\n",
    "for story in g3stories:\n",
    "    # `encode_plus` will:\n",
    "    #   (1) Tokenize the sentence.\n",
    "    #   (2) Prepend the `[CLS]` token to the start.\n",
    "    #   (3) Append the `[SEP]` token to the end.\n",
    "    #   (4) Map tokens to their IDs.\n",
    "    #   (5) Pad or truncate the sentence to `max_length`\n",
    "    #   (6) Create attention masks for [PAD] tokens.\n",
    "    encoded_dict = tokenizer.encode_plus(str(story), add_special_tokens=True, max_length=256, pad_to_max_length=True, return_attention_mask=True, return_tensors='pt')\n",
    "    \n",
    "    # Add the encoded sentence to the list.    \n",
    "    input_ids.append(encoded_dict['input_ids'])\n",
    "    \n",
    "    # And its attention mask (simply differentiates padding from non-padding).\n",
    "    attention_masks.append(encoded_dict['attention_mask'])\n",
    "\n",
    "# Convert the lists into tensors.\n",
    "input_ids = torch.cat(input_ids, dim=0)\n",
    "attention_masks = torch.cat(attention_masks, dim=0)\n",
    "labels = torch.tensor(g3df['G3 Affect Rating'].values)\n",
    "\n",
    "# Print sentence 0, now as a list of IDs.\n",
    "print('Original: ', g3stories[10])\n",
    "print('Token IDs:', input_ids[10])"
   ]
  },
  {
   "cell_type": "code",
   "execution_count": null,
   "metadata": {},
   "outputs": [],
   "source": [
    "print('Original: ', g3stories[8575])\n",
    "print('Token IDs:', input_ids[8575])"
   ]
  },
  {
   "cell_type": "code",
   "execution_count": null,
   "metadata": {},
   "outputs": [],
   "source": [
    "print(input_ids.shape)"
   ]
  },
  {
   "cell_type": "code",
   "execution_count": null,
   "metadata": {},
   "outputs": [],
   "source": [
    "from transformers import pipeline\n",
    "\n",
    "nlp_features = pipeline('feature-extraction', model='bert-base-cased', tokenizer='bert-base-cased')\n",
    "output = nlp_features('Hugging Face is a French company based in Paris')\n",
    "torch.tensor(output).shape   # (Samples, Tokens, Vector Size)"
   ]
  },
  {
   "cell_type": "code",
   "execution_count": 123,
   "metadata": {},
   "outputs": [
    {
     "name": "stdout",
     "output_type": "stream",
     "text": [
      "{'DISGUST': 0, 'EMBARESSMENT': 1, 'JOY': 2, 'RISK': 3, 'SADNESS': 4}\n"
     ]
    }
   ],
   "source": [
    "from sklearn import preprocessing\n",
    "from sklearn.model_selection import train_test_split\n",
    "\n",
    "g1stories = g1df['G1 Story'].values\n",
    "g3stories = g3df['G3 Retelling'].values\n",
    "\n",
    "le = preprocessing.LabelEncoder()\n",
    "Y = le.fit_transform(g0df['Affect'])\n",
    "\n",
    "Xtr, Xtt, Ytr, Ytt = train_test_split(g1stories, Y, test_size=0.025, stratify=Y)\n",
    "\n",
    "le_name_mapping = dict(zip(le.classes_, le.transform(le.classes_)))\n",
    "print(le_name_mapping)\n"
   ]
  },
  {
   "cell_type": "code",
   "execution_count": 124,
   "metadata": {},
   "outputs": [
    {
     "name": "stdout",
     "output_type": "stream",
     "text": [
      "torch.Size([215, 768])\n"
     ]
    }
   ],
   "source": [
    "from transformers import AutoModel, AutoTokenizer, BertTokenizer\n",
    "\n",
    "torch.set_grad_enabled(False)\n",
    "\n",
    "# Store the model we want to use\n",
    "MODEL_NAME = \"bert-base-cased\"\n",
    "\n",
    "# We need to create the model and tokenizer\n",
    "model = AutoModel.from_pretrained(MODEL_NAME)\n",
    "tokenizer = AutoTokenizer.from_pretrained(MODEL_NAME)\n",
    "\n",
    "features = []\n",
    "\n",
    "for story in Xtt:\n",
    "    tokens = tokenizer.encode_plus(str(story), add_special_tokens=True, max_length=130, pad_to_max_length=True, return_attention_mask=True, return_tensors='pt')\n",
    "    outputs, pooled = model(**tokens)\n",
    "    features.append(pooled)\n",
    "    \n",
    "# Convert the lists into tensors.\n",
    "features = torch.cat(features, dim=0)\n",
    "print(features.shape)\n",
    "\n",
    "Xtt = np.array(features)"
   ]
  },
  {
   "cell_type": "code",
   "execution_count": 125,
   "metadata": {},
   "outputs": [
    {
     "data": {
      "image/png": "[encoded data removed]",
      "text/plain": [
       "<Figure size 936x720 with 2 Axes>"
      ]
     },
     "metadata": {
      "needs_background": "light"
     },
     "output_type": "display_data"
    }
   ],
   "source": [
    "# Create scatter plot after PCA\n",
    "from sklearn.decomposition import PCA\n",
    "pca = PCA(n_components=13)\n",
    "pca.fit(Xtt)\n",
    "projected = pca.transform(Xtt)\n",
    "plt.figure(figsize=(13,10))\n",
    "plt.title(\"Scatter plot represented by first two principal components\")\n",
    "plt.scatter(projected[:, 0], projected[:, 1],\n",
    "            c=Ytt, edgecolor='none', alpha=0.8,\n",
    "            cmap=plt.cm.get_cmap('viridis', 5));\n",
    "plt.grid()\n",
    "plt.xlabel('Principal Component 1')\n",
    "plt.ylabel('Principal Component 2')\n",
    "plt.colorbar();\n",
    "plt.show()"
   ]
  },
  {
   "cell_type": "code",
   "execution_count": 136,
   "metadata": {},
   "outputs": [
    {
     "data": {
      "text/plain": [
       "(215, 2)"
      ]
     },
     "execution_count": 136,
     "metadata": {},
     "output_type": "execute_result"
    }
   ],
   "source": [
    "import umap\n",
    "\n",
    "reducer = umap.UMAP(n_neighbors=30)\n",
    "embedding = reducer.fit_transform(Xtt)\n",
    "embedding.shape\n"
   ]
  },
  {
   "cell_type": "code",
   "execution_count": 138,
   "metadata": {},
   "outputs": [
    {
     "data": {
      "text/plain": [
       "Text(0.5, 1.0, 'UMAP projection of Untuned Bert Embeddings')"
      ]
     },
     "execution_count": 138,
     "metadata": {},
     "output_type": "execute_result"
    },
    {
     "data": {
      "image/png": "[encoded data removed]",
      "text/plain": [
       "<Figure size 936x720 with 2 Axes>"
      ]
     },
     "metadata": {
      "needs_background": "light"
     },
     "output_type": "display_data"
    }
   ],
   "source": [
    "plt.figure(figsize=(13,10))\n",
    "plt.scatter(embedding[:, 0], embedding[:, 1], c=Ytt, edgecolor='none', alpha=0.8, cmap=plt.cm.get_cmap('viridis', 5))\n",
    "plt.colorbar()\n",
    "plt.gca().set_aspect('equal', 'datalim')\n",
    "plt.title('UMAP projection of Untuned Bert Embeddings', fontsize=24)\n"
   ]
  },
  {
   "cell_type": "code",
   "execution_count": 139,
   "metadata": {},
   "outputs": [
    {
     "data": {
      "text/plain": [
       "Text(0.5, 1.0, 't-SNE projection of Untuned Bert Embeddings')"
      ]
     },
     "execution_count": 139,
     "metadata": {},
     "output_type": "execute_result"
    },
    {
     "data": {
      "image/png": "[encoded data removed]",
      "text/plain": [
       "<Figure size 936x720 with 2 Axes>"
      ]
     },
     "metadata": {
      "needs_background": "light"
     },
     "output_type": "display_data"
    }
   ],
   "source": [
    "from sklearn.manifold import TSNE\n",
    "\n",
    "X_embedded = TSNE(n_components=2).fit_transform(Xtt)\n",
    "\n",
    "plt.figure(figsize=(13,10))\n",
    "plt.scatter(X_embedded[:, 0], X_embedded[:, 1], c=Ytt, edgecolor='none', alpha=0.8, cmap=plt.cm.get_cmap('viridis', 5))\n",
    "plt.colorbar()\n",
    "plt.gca().set_aspect('equal', 'datalim')\n",
    "plt.title('t-SNE projection of Untuned Bert Embeddings', fontsize=24)\n"
   ]
  },
  {
   "cell_type": "code",
   "execution_count": null,
   "metadata": {},
   "outputs": [],
   "source": []
  }
 ],
 "metadata": {
  "kernelspec": {
   "display_name": "Python 3",
   "language": "python",
   "name": "python3"
  },
  "language_info": {
   "codemirror_mode": {
    "name": "ipython",
    "version": 3
   },
   "file_extension": ".py",
   "mimetype": "text/x-python",
   "name": "python",
   "nbconvert_exporter": "python",
   "pygments_lexer": "ipython3",
   "version": "3.7.7"
  }
 },
 "nbformat": 4,
 "nbformat_minor": 4
}
